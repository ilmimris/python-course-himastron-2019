{
 "cells": [
  {
   "cell_type": "markdown",
   "metadata": {
    "colab_type": "text",
    "id": "kI7sTRYSqfzn"
   },
   "source": [
    "# Mathematical Constant"
   ]
  },
  {
   "cell_type": "code",
   "execution_count": 9,
   "metadata": {
    "colab": {
     "autoexec": {
      "startup": false,
      "wait_interval": 0
     },
     "base_uri": "https://localhost:8080/",
     "height": 34,
     "output_extras": [
      {
       "item_id": 1
      }
     ]
    },
    "colab_type": "code",
    "executionInfo": {
     "elapsed": 1774,
     "status": "ok",
     "timestamp": 1522224764463,
     "user": {
      "displayName": "Muhammad Rafiul Ilmi Syarifudin",
      "photoUrl": "//lh4.googleusercontent.com/-CpdhylvG3Yc/AAAAAAAAAAI/AAAAAAAAAx0/Ug2JeW-smSE/s50-c-k-no/photo.jpg",
      "userId": "116730841804462629249"
     },
     "user_tz": -420
    },
    "id": "xqhl3E0kqi6l",
    "outputId": "fb8647a1-ba6b-4e29-81c4-fc72f14e41c6"
   },
   "outputs": [
    {
     "name": "stdout",
     "output_type": "stream",
     "text": [
      "3.141592653589793\n"
     ]
    }
   ],
   "source": [
    "import math\n",
    "\n",
    "# Constant pi\n",
    "print(math.pi)"
   ]
  },
  {
   "cell_type": "code",
   "execution_count": 10,
   "metadata": {
    "colab": {
     "autoexec": {
      "startup": false,
      "wait_interval": 0
     },
     "base_uri": "https://localhost:8080/",
     "height": 34,
     "output_extras": [
      {
       "item_id": 1
      }
     ]
    },
    "colab_type": "code",
    "executionInfo": {
     "elapsed": 962,
     "status": "ok",
     "timestamp": 1522224776763,
     "user": {
      "displayName": "Muhammad Rafiul Ilmi Syarifudin",
      "photoUrl": "//lh4.googleusercontent.com/-CpdhylvG3Yc/AAAAAAAAAAI/AAAAAAAAAx0/Ug2JeW-smSE/s50-c-k-no/photo.jpg",
      "userId": "116730841804462629249"
     },
     "user_tz": -420
    },
    "id": "VGweAxOAqp6f",
    "outputId": "94b05e8f-34c5-45b7-de30-905e92f97e7e"
   },
   "outputs": [
    {
     "name": "stdout",
     "output_type": "stream",
     "text": [
      "2.718281828459045\n"
     ]
    }
   ],
   "source": [
    "# Constant e\n",
    "print(math.e)"
   ]
  },
  {
   "cell_type": "markdown",
   "metadata": {
    "colab_type": "text",
    "id": "nu1TV0J-pPF2"
   },
   "source": [
    "# `sin(x)`\n",
    "Return the sine of x radians."
   ]
  },
  {
   "cell_type": "code",
   "execution_count": 1,
   "metadata": {
    "colab": {
     "autoexec": {
      "startup": false,
      "wait_interval": 0
     },
     "base_uri": "https://localhost:8080/",
     "height": 102,
     "output_extras": [
      {
       "item_id": 1
      }
     ]
    },
    "colab_type": "code",
    "executionInfo": {
     "elapsed": 1246,
     "status": "ok",
     "timestamp": 1522224460711,
     "user": {
      "displayName": "Muhammad Rafiul Ilmi Syarifudin",
      "photoUrl": "//lh4.googleusercontent.com/-CpdhylvG3Yc/AAAAAAAAAAI/AAAAAAAAAx0/Ug2JeW-smSE/s50-c-k-no/photo.jpg",
      "userId": "116730841804462629249"
     },
     "user_tz": -420
    },
    "id": "5VOmq84cpR3u",
    "outputId": "3794eb4b-a646-4ce2-b5f6-db60fd8b031f"
   },
   "outputs": [
    {
     "name": "stdout",
     "output_type": "stream",
     "text": [
      "sin(3) :  0.1411200080598672\n",
      "sin(-3) :  -0.1411200080598672\n",
      "sin(0) :  0.0\n",
      "sin(math.pi) :  1.2246467991473532e-16\n",
      "sin(math.pi/2) :  1.0\n"
     ]
    }
   ],
   "source": [
    "import math\n",
    "\n",
    "print (\"sin(3) : \",  math.sin(3))\n",
    "print (\"sin(-3) : \",  math.sin(-3))\n",
    "print (\"sin(0) : \",  math.sin(0))\n",
    "print (\"sin(math.pi) : \",  math.sin(math.pi))\n",
    "print (\"sin(math.pi/2) : \",  math.sin(math.pi/2))"
   ]
  },
  {
   "cell_type": "markdown",
   "metadata": {
    "colab_type": "text",
    "id": "9nQTjZKKpeLW"
   },
   "source": [
    "# `cos(x)`\n",
    "Return the cosine of x radians."
   ]
  },
  {
   "cell_type": "code",
   "execution_count": 2,
   "metadata": {
    "colab": {
     "autoexec": {
      "startup": false,
      "wait_interval": 0
     },
     "base_uri": "https://localhost:8080/",
     "height": 102,
     "output_extras": [
      {
       "item_id": 1
      }
     ]
    },
    "colab_type": "code",
    "executionInfo": {
     "elapsed": 945,
     "status": "ok",
     "timestamp": 1522224487589,
     "user": {
      "displayName": "Muhammad Rafiul Ilmi Syarifudin",
      "photoUrl": "//lh4.googleusercontent.com/-CpdhylvG3Yc/AAAAAAAAAAI/AAAAAAAAAx0/Ug2JeW-smSE/s50-c-k-no/photo.jpg",
      "userId": "116730841804462629249"
     },
     "user_tz": -420
    },
    "id": "L50U5ec2pMGb",
    "outputId": "f0b07ad1-682e-4920-e49f-ada18c238ab5"
   },
   "outputs": [
    {
     "name": "stdout",
     "output_type": "stream",
     "text": [
      "cos(3) :  -0.9899924966004454\n",
      "cos(-3) :  -0.9899924966004454\n",
      "cos(0) :  1.0\n",
      "cos(math.pi) :  -1.0\n",
      "cos(2*math.pi) :  1.0\n"
     ]
    }
   ],
   "source": [
    "import math\n",
    "\n",
    "print (\"cos(3) : \",  math.cos(3))\n",
    "print (\"cos(-3) : \",  math.cos(-3))\n",
    "print (\"cos(0) : \",  math.cos(0))\n",
    "print (\"cos(math.pi) : \",  math.cos(math.pi))\n",
    "print (\"cos(2*math.pi) : \",  math.cos(2*math.pi))"
   ]
  },
  {
   "cell_type": "markdown",
   "metadata": {
    "colab_type": "text",
    "id": "kMFhVNZEpl5X"
   },
   "source": [
    "# `tan(x)`\n",
    "Return the tangent of x radians."
   ]
  },
  {
   "cell_type": "code",
   "execution_count": 3,
   "metadata": {
    "colab": {
     "autoexec": {
      "startup": false,
      "wait_interval": 0
     },
     "base_uri": "https://localhost:8080/",
     "height": 119,
     "output_extras": [
      {
       "item_id": 1
      }
     ]
    },
    "colab_type": "code",
    "executionInfo": {
     "elapsed": 1113,
     "status": "ok",
     "timestamp": 1522224534517,
     "user": {
      "displayName": "Muhammad Rafiul Ilmi Syarifudin",
      "photoUrl": "//lh4.googleusercontent.com/-CpdhylvG3Yc/AAAAAAAAAAI/AAAAAAAAAx0/Ug2JeW-smSE/s50-c-k-no/photo.jpg",
      "userId": "116730841804462629249"
     },
     "user_tz": -420
    },
    "id": "zGcrbXqtplig",
    "outputId": "8000506e-26e0-4239-ec3e-db1ac009a158"
   },
   "outputs": [
    {
     "name": "stdout",
     "output_type": "stream",
     "text": [
      "(tan(3) :  -0.1425465430742778\n",
      "tan(-3) :  0.1425465430742778\n",
      "tan(0) :  0.0\n",
      "tan(math.pi) :  -1.2246467991473532e-16\n",
      "tan(math.pi/2) :  1.633123935319537e+16\n",
      "tan(math.pi/4) :  0.9999999999999999\n"
     ]
    }
   ],
   "source": [
    "import math\n",
    "\n",
    "print (\"(tan(3) : \",  math.tan(3))\n",
    "print (\"tan(-3) : \",  math.tan(-3))\n",
    "print (\"tan(0) : \",  math.tan(0))\n",
    "print (\"tan(math.pi) : \",  math.tan(math.pi))\n",
    "print (\"tan(math.pi/2) : \",  math.tan(math.pi/2))\n",
    "print (\"tan(math.pi/4) : \",  math.tan(math.pi/4))"
   ]
  },
  {
   "cell_type": "markdown",
   "metadata": {
    "colab_type": "text",
    "id": "_yizv7G-pxV6"
   },
   "source": [
    "# `acos(x)`\n",
    "Return the arc cosine of x, in radians."
   ]
  },
  {
   "cell_type": "code",
   "execution_count": 4,
   "metadata": {
    "colab": {
     "autoexec": {
      "startup": false,
      "wait_interval": 0
     },
     "base_uri": "https://localhost:8080/",
     "height": 85,
     "output_extras": [
      {
       "item_id": 1
      }
     ]
    },
    "colab_type": "code",
    "executionInfo": {
     "elapsed": 1120,
     "status": "ok",
     "timestamp": 1522224561247,
     "user": {
      "displayName": "Muhammad Rafiul Ilmi Syarifudin",
      "photoUrl": "//lh4.googleusercontent.com/-CpdhylvG3Yc/AAAAAAAAAAI/AAAAAAAAAx0/Ug2JeW-smSE/s50-c-k-no/photo.jpg",
      "userId": "116730841804462629249"
     },
     "user_tz": -420
    },
    "id": "V0VQ5iQAp1dF",
    "outputId": "1fab6d3a-b4ae-4df1-fe59-9aec022e2f6c"
   },
   "outputs": [
    {
     "name": "stdout",
     "output_type": "stream",
     "text": [
      "acos(0.64) :  0.8762980611683406\n",
      "acos(0) :  1.5707963267948966\n",
      "acos(-1) :  3.141592653589793\n",
      "acos(1) :  0.0\n"
     ]
    }
   ],
   "source": [
    "import math\n",
    "\n",
    "print (\"acos(0.64) : \",  math.acos(0.64))\n",
    "print (\"acos(0) : \",  math.acos(0))\n",
    "print (\"acos(-1) : \",  math.acos(-1))\n",
    "print (\"acos(1) : \",  math.acos(1))"
   ]
  },
  {
   "cell_type": "markdown",
   "metadata": {
    "colab_type": "text",
    "id": "wsZlKON0p6rF"
   },
   "source": [
    "# `asin(x)`\n",
    "Return the arc sine of x, in radians."
   ]
  },
  {
   "cell_type": "code",
   "execution_count": 5,
   "metadata": {
    "colab": {
     "autoexec": {
      "startup": false,
      "wait_interval": 0
     },
     "base_uri": "https://localhost:8080/",
     "height": 85,
     "output_extras": [
      {
       "item_id": 1
      }
     ]
    },
    "colab_type": "code",
    "executionInfo": {
     "elapsed": 882,
     "status": "ok",
     "timestamp": 1522224601826,
     "user": {
      "displayName": "Muhammad Rafiul Ilmi Syarifudin",
      "photoUrl": "//lh4.googleusercontent.com/-CpdhylvG3Yc/AAAAAAAAAAI/AAAAAAAAAx0/Ug2JeW-smSE/s50-c-k-no/photo.jpg",
      "userId": "116730841804462629249"
     },
     "user_tz": -420
    },
    "id": "-kl0qey0p-xO",
    "outputId": "87704e10-9d09-4167-8d63-27b3e0ec1379"
   },
   "outputs": [
    {
     "name": "stdout",
     "output_type": "stream",
     "text": [
      "asin(0.64) :  0.694498265626556\n",
      "asin(0) :  0.0\n",
      "asin(-1) :  -1.5707963267948966\n",
      "asin(1) :  1.5707963267948966\n"
     ]
    }
   ],
   "source": [
    "import math\n",
    "\n",
    "print (\"asin(0.64) : \",  math.asin(0.64))\n",
    "print (\"asin(0) : \",  math.asin(0))\n",
    "print (\"asin(-1) : \",  math.asin(-1))\n",
    "print (\"asin(1) : \",  math.asin(1))"
   ]
  },
  {
   "cell_type": "markdown",
   "metadata": {
    "colab_type": "text",
    "id": "oUToG4aoqB_9"
   },
   "source": [
    "# `atan(x)`\n",
    "Return the arc tangent of x, in radians."
   ]
  },
  {
   "cell_type": "code",
   "execution_count": 6,
   "metadata": {
    "colab": {
     "autoexec": {
      "startup": false,
      "wait_interval": 0
     },
     "base_uri": "https://localhost:8080/",
     "height": 102,
     "output_extras": [
      {
       "item_id": 1
      }
     ]
    },
    "colab_type": "code",
    "executionInfo": {
     "elapsed": 1101,
     "status": "ok",
     "timestamp": 1522224624910,
     "user": {
      "displayName": "Muhammad Rafiul Ilmi Syarifudin",
      "photoUrl": "//lh4.googleusercontent.com/-CpdhylvG3Yc/AAAAAAAAAAI/AAAAAAAAAx0/Ug2JeW-smSE/s50-c-k-no/photo.jpg",
      "userId": "116730841804462629249"
     },
     "user_tz": -420
    },
    "id": "Xdbd6bShp3el",
    "outputId": "350b7dcf-a5cc-424a-e4ca-0449c1c0c7a8"
   },
   "outputs": [
    {
     "name": "stdout",
     "output_type": "stream",
     "text": [
      "atan(0.64) :  0.5693131911006619\n",
      "atan(0) :  0.0\n",
      "atan(10) :  1.4711276743037347\n",
      "atan(-1) :  -0.7853981633974483\n",
      "atan(1) :  0.7853981633974483\n"
     ]
    }
   ],
   "source": [
    "import math\n",
    "\n",
    "print (\"atan(0.64) : \",  math.atan(0.64))\n",
    "print (\"atan(0) : \",  math.atan(0))\n",
    "print (\"atan(10) : \",  math.atan(10))\n",
    "print (\"atan(-1) : \",  math.atan(-1))\n",
    "print (\"atan(1) : \",  math.atan(1))"
   ]
  },
  {
   "cell_type": "markdown",
   "metadata": {
    "colab_type": "text",
    "id": "UnCUJlwXqHmg"
   },
   "source": [
    "# `degrees(x)`\n",
    "Converts angle x from radians **to degrees**."
   ]
  },
  {
   "cell_type": "code",
   "execution_count": 7,
   "metadata": {
    "colab": {
     "autoexec": {
      "startup": false,
      "wait_interval": 0
     },
     "base_uri": "https://localhost:8080/",
     "height": 119,
     "output_extras": [
      {
       "item_id": 1
      }
     ]
    },
    "colab_type": "code",
    "executionInfo": {
     "elapsed": 910,
     "status": "ok",
     "timestamp": 1522224662894,
     "user": {
      "displayName": "Muhammad Rafiul Ilmi Syarifudin",
      "photoUrl": "//lh4.googleusercontent.com/-CpdhylvG3Yc/AAAAAAAAAAI/AAAAAAAAAx0/Ug2JeW-smSE/s50-c-k-no/photo.jpg",
      "userId": "116730841804462629249"
     },
     "user_tz": -420
    },
    "id": "FJAKXw-WqHBe",
    "outputId": "9608eb0c-c930-4793-ebe4-72698223ca8c"
   },
   "outputs": [
    {
     "name": "stdout",
     "output_type": "stream",
     "text": [
      "degrees(3) :  171.88733853924697\n",
      "degrees(-3) :  -171.88733853924697\n",
      "degrees(0) :  0.0\n",
      "degrees(math.pi) :  180.0\n",
      "degrees(math.pi/2) :  90.0\n",
      "degrees(math.pi/4) :  45.0\n"
     ]
    }
   ],
   "source": [
    "import math\n",
    "\n",
    "print (\"degrees(3) : \",  math.degrees(3))\n",
    "print (\"degrees(-3) : \",  math.degrees(-3))\n",
    "print (\"degrees(0) : \",  math.degrees(0))\n",
    "print (\"degrees(math.pi) : \",  math.degrees(math.pi))\n",
    "print (\"degrees(math.pi/2) : \",  math.degrees(math.pi/2))\n",
    "print (\"degrees(math.pi/4) : \",  math.degrees(math.pi/4))"
   ]
  },
  {
   "cell_type": "markdown",
   "metadata": {
    "colab_type": "text",
    "id": "LXa1w7_aqQve"
   },
   "source": [
    "# `radians(x)`\n",
    "Converts angle x from degrees **to radians**."
   ]
  },
  {
   "cell_type": "code",
   "execution_count": 8,
   "metadata": {
    "colab": {
     "autoexec": {
      "startup": false,
      "wait_interval": 0
     },
     "base_uri": "https://localhost:8080/",
     "height": 119,
     "output_extras": [
      {
       "item_id": 1
      }
     ]
    },
    "colab_type": "code",
    "executionInfo": {
     "elapsed": 825,
     "status": "ok",
     "timestamp": 1522224693524,
     "user": {
      "displayName": "Muhammad Rafiul Ilmi Syarifudin",
      "photoUrl": "//lh4.googleusercontent.com/-CpdhylvG3Yc/AAAAAAAAAAI/AAAAAAAAAx0/Ug2JeW-smSE/s50-c-k-no/photo.jpg",
      "userId": "116730841804462629249"
     },
     "user_tz": -420
    },
    "id": "S5uJZmJGqUee",
    "outputId": "9b2514a3-4c14-404f-fc1a-aa6bd146bd5e"
   },
   "outputs": [
    {
     "name": "stdout",
     "output_type": "stream",
     "text": [
      "radians(3) :  0.05235987755982989\n",
      "radians(-3) :  -0.05235987755982989\n",
      "radians(0) :  0.0\n",
      "radians(math.pi) :  0.05483113556160755\n",
      "radians(math.pi/2) :  0.027415567780803774\n",
      "radians(math.pi/4) :  0.013707783890401887\n"
     ]
    }
   ],
   "source": [
    "import math\n",
    "\n",
    "print (\"radians(3) : \",  math.radians(3))\n",
    "print (\"radians(-3) : \",  math.radians(-3))\n",
    "print (\"radians(0) : \",  math.radians(0))\n",
    "print (\"radians(math.pi) : \",  math.radians(math.pi))\n",
    "print (\"radians(math.pi/2) : \",  math.radians(math.pi/2))\n",
    "print (\"radians(math.pi/4) : \",  math.radians(math.pi/4))"
   ]
  }
 ],
 "metadata": {
  "colab": {
   "default_view": {},
   "name": "Trigonometric Function.ipynb",
   "provenance": [],
   "version": "0.3.2",
   "views": {}
  },
  "kernelspec": {
   "display_name": "Python 3",
   "language": "python",
   "name": "python3"
  },
  "language_info": {
   "codemirror_mode": {
    "name": "ipython",
    "version": 3
   },
   "file_extension": ".py",
   "mimetype": "text/x-python",
   "name": "python",
   "nbconvert_exporter": "python",
   "pygments_lexer": "ipython3",
   "version": "3.6.8"
  }
 },
 "nbformat": 4,
 "nbformat_minor": 1
}
