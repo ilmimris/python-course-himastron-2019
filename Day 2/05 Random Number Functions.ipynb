{
 "cells": [
  {
   "cell_type": "markdown",
   "metadata": {
    "colab_type": "text",
    "id": "ZLdpCjRJnaA3"
   },
   "source": [
    "Random numbers are used for games, simulations, testing, security, and privacy applications. Python includes the following functions that are commonly used."
   ]
  },
  {
   "cell_type": "markdown",
   "metadata": {
    "colab_type": "text",
    "id": "6aV-cjoZna-O"
   },
   "source": [
    "# `choice(seq)`\n",
    "A random item from a list, tuple, or string."
   ]
  },
  {
   "cell_type": "code",
   "execution_count": 2,
   "metadata": {
    "colab": {
     "autoexec": {
      "startup": false,
      "wait_interval": 0
     },
     "base_uri": "https://localhost:8080/",
     "height": 68,
     "output_extras": [
      {
       "item_id": 1
      }
     ]
    },
    "colab_type": "code",
    "executionInfo": {
     "elapsed": 1155,
     "status": "ok",
     "timestamp": 1522224150146,
     "user": {
      "displayName": "Muhammad Rafiul Ilmi Syarifudin",
      "photoUrl": "//lh4.googleusercontent.com/-CpdhylvG3Yc/AAAAAAAAAAI/AAAAAAAAAx0/Ug2JeW-smSE/s50-c-k-no/photo.jpg",
      "userId": "116730841804462629249"
     },
     "user_tz": -420
    },
    "id": "6szjnwzunLLo",
    "outputId": "172b1138-cbf7-4fb4-da1a-510d5f019870"
   },
   "outputs": [
    {
     "name": "stdout",
     "output_type": "stream",
     "text": [
      "returns a random number from range(100) :  23\n",
      "returns random element from list [1, 2, 3, 5, 9]) :  5\n",
      "returns random character from string 'Hello World' :  W\n"
     ]
    }
   ],
   "source": [
    "import random\n",
    "\n",
    "print (\"returns a random number from range(100) : \", \\\n",
    "       random.choice(range(100)))\n",
    "print (\"returns random element from list [1, 2, 3, 5, 9]) : \", \\\n",
    "       random.choice([1, 2, 3, 5, 9]))\n",
    "print (\"returns random character from string 'Hello World' : \", \\\n",
    "       random.choice('Hello World'))"
   ]
  },
  {
   "cell_type": "markdown",
   "metadata": {
    "colab_type": "text",
    "id": "DcF_qhThntdT"
   },
   "source": [
    "# `randrange ([start,] stop [,step])`\n",
    "A randomly selected element from range(start, stop, step)."
   ]
  },
  {
   "cell_type": "code",
   "execution_count": 2,
   "metadata": {
    "colab": {
     "autoexec": {
      "startup": false,
      "wait_interval": 0
     },
     "base_uri": "https://localhost:8080/",
     "height": 34,
     "output_extras": [
      {
       "item_id": 1
      }
     ]
    },
    "colab_type": "code",
    "executionInfo": {
     "elapsed": 1079,
     "status": "ok",
     "timestamp": 1522224151344,
     "user": {
      "displayName": "Muhammad Rafiul Ilmi Syarifudin",
      "photoUrl": "//lh4.googleusercontent.com/-CpdhylvG3Yc/AAAAAAAAAAI/AAAAAAAAAx0/Ug2JeW-smSE/s50-c-k-no/photo.jpg",
      "userId": "116730841804462629249"
     },
     "user_tz": -420
    },
    "id": "TvpuINEenhPf",
    "outputId": "d7486233-2414-4d2a-d60f-8442c9b0e4a5"
   },
   "outputs": [
    {
     "name": "stdout",
     "output_type": "stream",
     "text": [
      "randrange(1,100, 2) :  9\n"
     ]
    }
   ],
   "source": [
    "import random\n",
    "\n",
    "# randomly select an odd number between 1-100 \n",
    "print (\"randrange(1,100, 2) : \", random.randrange(1, 100, 2))"
   ]
  },
  {
   "cell_type": "markdown",
   "metadata": {
    "colab_type": "text",
    "id": "JBLSN0SGoETI"
   },
   "source": [
    "# `random()`\n",
    "The random() method returns a random floating point number in the range [0.0, 1.0]."
   ]
  },
  {
   "cell_type": "code",
   "execution_count": 3,
   "metadata": {
    "colab": {
     "autoexec": {
      "startup": false,
      "wait_interval": 0
     },
     "base_uri": "https://localhost:8080/",
     "height": 34,
     "output_extras": [
      {
       "item_id": 1
      }
     ]
    },
    "colab_type": "code",
    "executionInfo": {
     "elapsed": 727,
     "status": "ok",
     "timestamp": 1522224152175,
     "user": {
      "displayName": "Muhammad Rafiul Ilmi Syarifudin",
      "photoUrl": "//lh4.googleusercontent.com/-CpdhylvG3Yc/AAAAAAAAAAI/AAAAAAAAAx0/Ug2JeW-smSE/s50-c-k-no/photo.jpg",
      "userId": "116730841804462629249"
     },
     "user_tz": -420
    },
    "id": "LkkDn9c7oMe2",
    "outputId": "553a1309-9feb-4146-d9e9-67f62ce70d4e"
   },
   "outputs": [
    {
     "name": "stdout",
     "output_type": "stream",
     "text": [
      "random() :  0.4731990264506284\n"
     ]
    }
   ],
   "source": [
    "import random\n",
    "\n",
    "# First random number\n",
    "print (\"random() : \", random.random())"
   ]
  },
  {
   "cell_type": "code",
   "execution_count": 4,
   "metadata": {
    "colab": {
     "autoexec": {
      "startup": false,
      "wait_interval": 0
     },
     "base_uri": "https://localhost:8080/",
     "height": 34,
     "output_extras": [
      {
       "item_id": 1
      }
     ]
    },
    "colab_type": "code",
    "executionInfo": {
     "elapsed": 1171,
     "status": "ok",
     "timestamp": 1522224153465,
     "user": {
      "displayName": "Muhammad Rafiul Ilmi Syarifudin",
      "photoUrl": "//lh4.googleusercontent.com/-CpdhylvG3Yc/AAAAAAAAAAI/AAAAAAAAAx0/Ug2JeW-smSE/s50-c-k-no/photo.jpg",
      "userId": "116730841804462629249"
     },
     "user_tz": -420
    },
    "id": "xAaAGOIDoOoV",
    "outputId": "2777bcaa-5895-4b88-9fe5-4b22f67cdfd6"
   },
   "outputs": [
    {
     "name": "stdout",
     "output_type": "stream",
     "text": [
      "random() :  0.2751959612619769\n"
     ]
    }
   ],
   "source": [
    "# Second random number\n",
    "print (\"random() : \", random.random())"
   ]
  },
  {
   "cell_type": "markdown",
   "metadata": {
    "colab_type": "text",
    "id": "YohS2uZyo0e3"
   },
   "source": [
    "# `shuffle(list)`\n",
    "This method returns reshuffled list."
   ]
  },
  {
   "cell_type": "code",
   "execution_count": 1,
   "metadata": {
    "colab": {
     "autoexec": {
      "startup": false,
      "wait_interval": 0
     },
     "base_uri": "https://localhost:8080/",
     "height": 34,
     "output_extras": [
      {
       "item_id": 1
      }
     ]
    },
    "colab_type": "code",
    "executionInfo": {
     "elapsed": 900,
     "status": "ok",
     "timestamp": 1522835102302,
     "user": {
      "displayName": "Muhammad Rafiul Ilmi Syarifudin",
      "photoUrl": "//lh4.googleusercontent.com/-CpdhylvG3Yc/AAAAAAAAAAI/AAAAAAAAAx0/Ug2JeW-smSE/s50-c-k-no/photo.jpg",
      "userId": "116730841804462629249"
     },
     "user_tz": -420
    },
    "id": "oWYBhl5Yovst",
    "outputId": "323bbcec-6021-4b02-ce0f-74eeb481867b"
   },
   "outputs": [
    {
     "name": "stdout",
     "output_type": "stream",
     "text": [
      "Reshuffled list :  [16, 5, 20, 10]\n"
     ]
    }
   ],
   "source": [
    "import random\n",
    "\n",
    "list = [20, 16, 10, 5];\n",
    "random.shuffle(list)\n",
    "print (\"Reshuffled list : \",  list)"
   ]
  },
  {
   "cell_type": "code",
   "execution_count": 2,
   "metadata": {
    "colab": {
     "autoexec": {
      "startup": false,
      "wait_interval": 0
     },
     "base_uri": "https://localhost:8080/",
     "height": 34,
     "output_extras": [
      {
       "item_id": 1
      }
     ]
    },
    "colab_type": "code",
    "executionInfo": {
     "elapsed": 1223,
     "status": "ok",
     "timestamp": 1522835120516,
     "user": {
      "displayName": "Muhammad Rafiul Ilmi Syarifudin",
      "photoUrl": "//lh4.googleusercontent.com/-CpdhylvG3Yc/AAAAAAAAAAI/AAAAAAAAAx0/Ug2JeW-smSE/s50-c-k-no/photo.jpg",
      "userId": "116730841804462629249"
     },
     "user_tz": -420
    },
    "id": "d9onhpNUC6pr",
    "outputId": "4648f4dd-6324-4462-ebb1-3232f944b0ff"
   },
   "outputs": [
    {
     "name": "stdout",
     "output_type": "stream",
     "text": [
      "[16, 5, 20, 10]\n"
     ]
    }
   ],
   "source": [
    "print(list)"
   ]
  },
  {
   "cell_type": "code",
   "execution_count": 3,
   "metadata": {
    "colab": {
     "autoexec": {
      "startup": false,
      "wait_interval": 0
     },
     "base_uri": "https://localhost:8080/",
     "height": 34,
     "output_extras": [
      {
       "item_id": 1
      }
     ]
    },
    "colab_type": "code",
    "executionInfo": {
     "elapsed": 865,
     "status": "ok",
     "timestamp": 1522835137235,
     "user": {
      "displayName": "Muhammad Rafiul Ilmi Syarifudin",
      "photoUrl": "//lh4.googleusercontent.com/-CpdhylvG3Yc/AAAAAAAAAAI/AAAAAAAAAx0/Ug2JeW-smSE/s50-c-k-no/photo.jpg",
      "userId": "116730841804462629249"
     },
     "user_tz": -420
    },
    "id": "KfVrxQ2EC_qS",
    "outputId": "bf589554-f04d-457c-9154-45686cb4edad"
   },
   "outputs": [
    {
     "data": {
      "text/plain": [
       "[5, 10, 16, 20]"
      ]
     },
     "execution_count": 3,
     "metadata": {
      "tags": []
     },
     "output_type": "execute_result"
    }
   ],
   "source": [
    "sorted(list)"
   ]
  },
  {
   "cell_type": "code",
   "execution_count": 4,
   "metadata": {
    "colab": {
     "autoexec": {
      "startup": false,
      "wait_interval": 0
     },
     "base_uri": "https://localhost:8080/",
     "height": 34,
     "output_extras": [
      {
       "item_id": 1
      }
     ]
    },
    "colab_type": "code",
    "executionInfo": {
     "elapsed": 2339,
     "status": "ok",
     "timestamp": 1522835242234,
     "user": {
      "displayName": "Muhammad Rafiul Ilmi Syarifudin",
      "photoUrl": "//lh4.googleusercontent.com/-CpdhylvG3Yc/AAAAAAAAAAI/AAAAAAAAAx0/Ug2JeW-smSE/s50-c-k-no/photo.jpg",
      "userId": "116730841804462629249"
     },
     "user_tz": -420
    },
    "id": "lYiHHFwiDYW7",
    "outputId": "c14c76b8-7ae6-4f55-fb93-172aa09f661e"
   },
   "outputs": [
    {
     "data": {
      "text/plain": [
       "[20, 16, 10, 5]"
      ]
     },
     "execution_count": 4,
     "metadata": {
      "tags": []
     },
     "output_type": "execute_result"
    }
   ],
   "source": [
    "sorted(list, reverse=True)"
   ]
  },
  {
   "cell_type": "code",
   "execution_count": 7,
   "metadata": {
    "colab": {
     "autoexec": {
      "startup": false,
      "wait_interval": 0
     },
     "base_uri": "https://localhost:8080/",
     "height": 153,
     "output_extras": [
      {
       "item_id": 1
      }
     ]
    },
    "colab_type": "code",
    "executionInfo": {
     "elapsed": 1253,
     "status": "ok",
     "timestamp": 1522835346667,
     "user": {
      "displayName": "Muhammad Rafiul Ilmi Syarifudin",
      "photoUrl": "//lh4.googleusercontent.com/-CpdhylvG3Yc/AAAAAAAAAAI/AAAAAAAAAx0/Ug2JeW-smSE/s50-c-k-no/photo.jpg",
      "userId": "116730841804462629249"
     },
     "user_tz": -420
    },
    "id": "tDbyS0CADuVD",
    "outputId": "324781ba-128e-4a5f-9416-2cb0d17e099d"
   },
   "outputs": [
    {
     "name": "stdout",
     "output_type": "stream",
     "text": [
      "Help on built-in function sorted in module builtins:\n",
      "\n",
      "sorted(iterable, /, *, key=None, reverse=False)\n",
      "    Return a new list containing all items from the iterable in ascending order.\n",
      "    \n",
      "    A custom key function can be supplied to customize the sort order, and the\n",
      "    reverse flag can be set to request the result in descending order.\n",
      "\n"
     ]
    }
   ],
   "source": [
    "help(sorted)"
   ]
  },
  {
   "cell_type": "markdown",
   "metadata": {
    "colab_type": "text",
    "id": "gwag0jDEo8Xg"
   },
   "source": [
    "# `uniform()`\n",
    "This method returns a **floating** point number r such that **x <= r < y**."
   ]
  },
  {
   "cell_type": "code",
   "execution_count": 10,
   "metadata": {
    "colab": {
     "autoexec": {
      "startup": false,
      "wait_interval": 0
     },
     "base_uri": "https://localhost:8080/",
     "height": 34,
     "output_extras": [
      {
       "item_id": 1
      }
     ]
    },
    "colab_type": "code",
    "executionInfo": {
     "elapsed": 1009,
     "status": "ok",
     "timestamp": 1522224346343,
     "user": {
      "displayName": "Muhammad Rafiul Ilmi Syarifudin",
      "photoUrl": "//lh4.googleusercontent.com/-CpdhylvG3Yc/AAAAAAAAAAI/AAAAAAAAAx0/Ug2JeW-smSE/s50-c-k-no/photo.jpg",
      "userId": "116730841804462629249"
     },
     "user_tz": -420
    },
    "id": "AWfHMHNUo5Qi",
    "outputId": "a1f69e68-ee85-4931-8f2f-9def79428f2a"
   },
   "outputs": [
    {
     "name": "stdout",
     "output_type": "stream",
     "text": [
      "Random Float uniform(5, 10) :  7.890456505672352\n"
     ]
    }
   ],
   "source": [
    "import random\n",
    "\n",
    "print (\"Random Float uniform(5, 10) : \",  random.uniform(5, 10))"
   ]
  },
  {
   "cell_type": "code",
   "execution_count": 11,
   "metadata": {
    "colab": {
     "autoexec": {
      "startup": false,
      "wait_interval": 0
     },
     "base_uri": "https://localhost:8080/",
     "height": 34,
     "output_extras": [
      {
       "item_id": 1
      }
     ]
    },
    "colab_type": "code",
    "executionInfo": {
     "elapsed": 2493,
     "status": "ok",
     "timestamp": 1522224351570,
     "user": {
      "displayName": "Muhammad Rafiul Ilmi Syarifudin",
      "photoUrl": "//lh4.googleusercontent.com/-CpdhylvG3Yc/AAAAAAAAAAI/AAAAAAAAAx0/Ug2JeW-smSE/s50-c-k-no/photo.jpg",
      "userId": "116730841804462629249"
     },
     "user_tz": -420
    },
    "id": "3yAMV85cpDCB",
    "outputId": "44c837ad-7b64-4416-d59e-c001d02f1479"
   },
   "outputs": [
    {
     "name": "stdout",
     "output_type": "stream",
     "text": [
      "Random Float uniform(7, 14) :  8.442687624976513\n"
     ]
    }
   ],
   "source": [
    "print (\"Random Float uniform(7, 14) : \",  random.uniform(7, 14))"
   ]
  }
 ],
 "metadata": {
  "colab": {
   "default_view": {},
   "name": "Random Number Functions.ipynb",
   "provenance": [],
   "version": "0.3.2",
   "views": {}
  },
  "kernelspec": {
   "display_name": "Python 3",
   "language": "python",
   "name": "python3"
  },
  "language_info": {
   "codemirror_mode": {
    "name": "ipython",
    "version": 3
   },
   "file_extension": ".py",
   "mimetype": "text/x-python",
   "name": "python",
   "nbconvert_exporter": "python",
   "pygments_lexer": "ipython3",
   "version": "3.6.8"
  }
 },
 "nbformat": 4,
 "nbformat_minor": 1
}
