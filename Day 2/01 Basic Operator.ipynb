{
 "cells": [
  {
   "cell_type": "markdown",
   "metadata": {
    "colab_type": "text",
    "id": "g3LGhEKirPH5"
   },
   "source": [
    "# Types of Operator\n",
    "Python language supports the following types of operators:\n",
    "\n",
    "* Arithmetic Operators\n",
    "* Comparison (Relational) Operators\n",
    "* Assignment Operators\n",
    "* Logical Operators\n",
    "* Bitwise Operators\n",
    "* Membership Operators\n",
    "* Identity Operators\n",
    "\n",
    "\n"
   ]
  },
  {
   "cell_type": "markdown",
   "metadata": {
    "colab_type": "text",
    "id": "o_x0EflwrhVT"
   },
   "source": [
    "## Arithmetic\n",
    "**Operator**|**Description**|**Example**\n",
    ":-----:|:-----:|:-----:\n",
    "+ Addition|Adds values on either side of the operator.|a + b = 31\n",
    "- Subtraction|Subtracts right hand operand from left hand operand.|a – b = -11\n",
    "* Multiplication|Multiplies values on either side of the operator|a * b = 210\n",
    "/ Division|Divides left hand operand by right hand operand|b / a = 2.1\n",
    "% Modulus|Divides left hand operand by right hand operand and returns remainder|b % a = 1\n",
    "** Exponent|Performs exponential (power) calculation on operators|a**b =10 to the power 20\n",
    "//|Floor Division - The division of operands where the result is the quotient in which the digits after the decimal point are removed. But if one of the operands is negative, the result is floored, i.e., rounded away from zero (towards negative infinity):|9//2 = 4 and 9.0//2.0 = 4.0, -11//3 = -4, -11.0//3 = -4.0"
   ]
  },
  {
   "cell_type": "code",
   "execution_count": 0,
   "metadata": {
    "colab": {
     "autoexec": {
      "startup": false,
      "wait_interval": 0
     }
    },
    "colab_type": "code",
    "id": "8ScwLXhrs8yb"
   },
   "outputs": [],
   "source": [
    "a, b = 10, 21."
   ]
  },
  {
   "cell_type": "code",
   "execution_count": 0,
   "metadata": {
    "colab": {
     "autoexec": {
      "startup": false,
      "wait_interval": 0
     },
     "base_uri": "https://localhost:8080/",
     "height": 34,
     "output_extras": [
      {}
     ]
    },
    "colab_type": "code",
    "executionInfo": {
     "elapsed": 750,
     "status": "ok",
     "timestamp": 1522208697815,
     "user": {
      "displayName": "Muhammad Rafiul Ilmi Syarifudin",
      "photoUrl": "//lh4.googleusercontent.com/-CpdhylvG3Yc/AAAAAAAAAAI/AAAAAAAAAx0/Ug2JeW-smSE/s50-c-k-no/photo.jpg",
      "userId": "116730841804462629249"
     },
     "user_tz": -420
    },
    "id": "S4NdTnAUtAtT",
    "outputId": "01df087b-e2fd-492b-fd2b-2ea9b1cc6fe2"
   },
   "outputs": [
    {
     "data": {
      "text/plain": [
       "31"
      ]
     },
     "execution_count": 2,
     "metadata": {
      "tags": []
     },
     "output_type": "execute_result"
    }
   ],
   "source": [
    "# Addition\n",
    "a + b"
   ]
  },
  {
   "cell_type": "code",
   "execution_count": 0,
   "metadata": {
    "colab": {
     "autoexec": {
      "startup": false,
      "wait_interval": 0
     },
     "base_uri": "https://localhost:8080/",
     "height": 34,
     "output_extras": [
      {}
     ]
    },
    "colab_type": "code",
    "executionInfo": {
     "elapsed": 724,
     "status": "ok",
     "timestamp": 1522208698695,
     "user": {
      "displayName": "Muhammad Rafiul Ilmi Syarifudin",
      "photoUrl": "//lh4.googleusercontent.com/-CpdhylvG3Yc/AAAAAAAAAAI/AAAAAAAAAx0/Ug2JeW-smSE/s50-c-k-no/photo.jpg",
      "userId": "116730841804462629249"
     },
     "user_tz": -420
    },
    "id": "cwZIPVaGtE6_",
    "outputId": "4a786ca6-fb9a-414a-cbec-7f992dbf339c"
   },
   "outputs": [
    {
     "data": {
      "text/plain": [
       "-11"
      ]
     },
     "execution_count": 3,
     "metadata": {
      "tags": []
     },
     "output_type": "execute_result"
    }
   ],
   "source": [
    "# Substraction\n",
    "a - b"
   ]
  },
  {
   "cell_type": "code",
   "execution_count": 0,
   "metadata": {
    "colab": {
     "autoexec": {
      "startup": false,
      "wait_interval": 0
     },
     "base_uri": "https://localhost:8080/",
     "height": 34,
     "output_extras": [
      {}
     ]
    },
    "colab_type": "code",
    "executionInfo": {
     "elapsed": 542,
     "status": "ok",
     "timestamp": 1522208710983,
     "user": {
      "displayName": "Muhammad Rafiul Ilmi Syarifudin",
      "photoUrl": "//lh4.googleusercontent.com/-CpdhylvG3Yc/AAAAAAAAAAI/AAAAAAAAAx0/Ug2JeW-smSE/s50-c-k-no/photo.jpg",
      "userId": "116730841804462629249"
     },
     "user_tz": -420
    },
    "id": "hXYMzFEgtNAr",
    "outputId": "023e97af-5713-4402-9b69-7665c1809700"
   },
   "outputs": [
    {
     "data": {
      "text/plain": [
       "210"
      ]
     },
     "execution_count": 4,
     "metadata": {
      "tags": []
     },
     "output_type": "execute_result"
    }
   ],
   "source": [
    "# Multiplcation\n",
    "a * b"
   ]
  },
  {
   "cell_type": "code",
   "execution_count": 3,
   "metadata": {
    "colab": {
     "autoexec": {
      "startup": false,
      "wait_interval": 0
     },
     "base_uri": "https://localhost:8080/",
     "height": 34,
     "output_extras": [
      {
       "item_id": 1
      }
     ]
    },
    "colab_type": "code",
    "executionInfo": {
     "elapsed": 805,
     "status": "ok",
     "timestamp": 1522662224886,
     "user": {
      "displayName": "Muhammad Rafiul Ilmi Syarifudin",
      "photoUrl": "//lh4.googleusercontent.com/-CpdhylvG3Yc/AAAAAAAAAAI/AAAAAAAAAx0/Ug2JeW-smSE/s50-c-k-no/photo.jpg",
      "userId": "116730841804462629249"
     },
     "user_tz": -420
    },
    "id": "xesag_dWtZ6t",
    "outputId": "c06e74bc-7f9f-42e0-b154-f4bd6c3effbc"
   },
   "outputs": [
    {
     "data": {
      "text/plain": [
       "2.1"
      ]
     },
     "execution_count": 3,
     "metadata": {
      "tags": []
     },
     "output_type": "execute_result"
    }
   ],
   "source": [
    "# Division\n",
    "b / a"
   ]
  },
  {
   "cell_type": "code",
   "execution_count": 0,
   "metadata": {
    "colab": {
     "autoexec": {
      "startup": false,
      "wait_interval": 0
     },
     "base_uri": "https://localhost:8080/",
     "height": 34,
     "output_extras": [
      {}
     ]
    },
    "colab_type": "code",
    "executionInfo": {
     "elapsed": 744,
     "status": "ok",
     "timestamp": 1522208739592,
     "user": {
      "displayName": "Muhammad Rafiul Ilmi Syarifudin",
      "photoUrl": "//lh4.googleusercontent.com/-CpdhylvG3Yc/AAAAAAAAAAI/AAAAAAAAAx0/Ug2JeW-smSE/s50-c-k-no/photo.jpg",
      "userId": "116730841804462629249"
     },
     "user_tz": -420
    },
    "id": "T0jJHLp1tcv4",
    "outputId": "0e254433-455e-4775-939c-63b196e1f0fb"
   },
   "outputs": [
    {
     "data": {
      "text/plain": [
       "1"
      ]
     },
     "execution_count": 6,
     "metadata": {
      "tags": []
     },
     "output_type": "execute_result"
    }
   ],
   "source": [
    "# Modulus\n",
    "b % a"
   ]
  },
  {
   "cell_type": "code",
   "execution_count": 0,
   "metadata": {
    "colab": {
     "autoexec": {
      "startup": false,
      "wait_interval": 0
     },
     "base_uri": "https://localhost:8080/",
     "height": 34,
     "output_extras": [
      {}
     ]
    },
    "colab_type": "code",
    "executionInfo": {
     "elapsed": 768,
     "status": "ok",
     "timestamp": 1522208755507,
     "user": {
      "displayName": "Muhammad Rafiul Ilmi Syarifudin",
      "photoUrl": "//lh4.googleusercontent.com/-CpdhylvG3Yc/AAAAAAAAAAI/AAAAAAAAAx0/Ug2JeW-smSE/s50-c-k-no/photo.jpg",
      "userId": "116730841804462629249"
     },
     "user_tz": -420
    },
    "id": "Qkp41zJctg3I",
    "outputId": "66d69468-338f-4017-dcdd-2f4f0c952607"
   },
   "outputs": [
    {
     "data": {
      "text/plain": [
       "1000000000000000000000L"
      ]
     },
     "execution_count": 7,
     "metadata": {
      "tags": []
     },
     "output_type": "execute_result"
    }
   ],
   "source": [
    "# Exponent\n",
    "a**b"
   ]
  },
  {
   "cell_type": "code",
   "execution_count": 0,
   "metadata": {
    "colab": {
     "autoexec": {
      "startup": false,
      "wait_interval": 0
     },
     "base_uri": "https://localhost:8080/",
     "height": 34,
     "output_extras": [
      {}
     ]
    },
    "colab_type": "code",
    "executionInfo": {
     "elapsed": 862,
     "status": "ok",
     "timestamp": 1522208817247,
     "user": {
      "displayName": "Muhammad Rafiul Ilmi Syarifudin",
      "photoUrl": "//lh4.googleusercontent.com/-CpdhylvG3Yc/AAAAAAAAAAI/AAAAAAAAAx0/Ug2JeW-smSE/s50-c-k-no/photo.jpg",
      "userId": "116730841804462629249"
     },
     "user_tz": -420
    },
    "id": "sTpk9s7ztsHy",
    "outputId": "e2f01a23-e9d4-4f5e-d346-adfc6d4c7854"
   },
   "outputs": [
    {
     "data": {
      "text/plain": [
       "2"
      ]
     },
     "execution_count": 9,
     "metadata": {
      "tags": []
     },
     "output_type": "execute_result"
    }
   ],
   "source": [
    "# Floor Division\n",
    "b // a"
   ]
  },
  {
   "cell_type": "code",
   "execution_count": 0,
   "metadata": {
    "colab": {
     "autoexec": {
      "startup": false,
      "wait_interval": 0
     },
     "base_uri": "https://localhost:8080/",
     "height": 34,
     "output_extras": [
      {}
     ]
    },
    "colab_type": "code",
    "executionInfo": {
     "elapsed": 854,
     "status": "ok",
     "timestamp": 1522208846584,
     "user": {
      "displayName": "Muhammad Rafiul Ilmi Syarifudin",
      "photoUrl": "//lh4.googleusercontent.com/-CpdhylvG3Yc/AAAAAAAAAAI/AAAAAAAAAx0/Ug2JeW-smSE/s50-c-k-no/photo.jpg",
      "userId": "116730841804462629249"
     },
     "user_tz": -420
    },
    "id": "RCeF3jOztkvf",
    "outputId": "ccdd4216-f142-4cf8-bb82-b4bec576f488"
   },
   "outputs": [
    {
     "data": {
      "text/plain": [
       "3.0"
      ]
     },
     "execution_count": 10,
     "metadata": {
      "tags": []
     },
     "output_type": "execute_result"
    }
   ],
   "source": [
    "11.0 // 3 "
   ]
  },
  {
   "cell_type": "code",
   "execution_count": 0,
   "metadata": {
    "colab": {
     "autoexec": {
      "startup": false,
      "wait_interval": 0
     },
     "base_uri": "https://localhost:8080/",
     "height": 34,
     "output_extras": [
      {}
     ]
    },
    "colab_type": "code",
    "executionInfo": {
     "elapsed": 738,
     "status": "ok",
     "timestamp": 1522208856834,
     "user": {
      "displayName": "Muhammad Rafiul Ilmi Syarifudin",
      "photoUrl": "//lh4.googleusercontent.com/-CpdhylvG3Yc/AAAAAAAAAAI/AAAAAAAAAx0/Ug2JeW-smSE/s50-c-k-no/photo.jpg",
      "userId": "116730841804462629249"
     },
     "user_tz": -420
    },
    "id": "fYh9UIfCt69K",
    "outputId": "d6eaff45-ae36-42c6-89d8-76a52ae243aa"
   },
   "outputs": [
    {
     "data": {
      "text/plain": [
       "-4.0"
      ]
     },
     "execution_count": 11,
     "metadata": {
      "tags": []
     },
     "output_type": "execute_result"
    }
   ],
   "source": [
    "-11.0 // 3"
   ]
  },
  {
   "cell_type": "markdown",
   "metadata": {
    "colab_type": "text",
    "id": "_86lOh1fuPk3"
   },
   "source": [
    "## Comparison\n",
    "**Operator**|**Description**|**Example**\n",
    ":-----:|:-----:|:-----:\n",
    "==|If the values of two operands are equal, then the condition becomes true.|(a == b) is not true.\n",
    "!=|If values of two operands are not equal, then condition becomes true.|(a!= b) is true.\n",
    ">|If the value of left operand is greater than the value of right operand, then condition becomes true.|(a > b) is not true.\n",
    "<|If the value of left operand is less than the value of right operand, then condition becomes true.|(a < b) is true.\n",
    ">=|If the value of left operand is greater than or equal to the value of right operand, then condition becomes true.|(a >= b) is not true.\n",
    "<=|If the value of left operand is less than or equal to the value of right operand, then condition becomes true.|(a <= b) is true."
   ]
  },
  {
   "cell_type": "code",
   "execution_count": 0,
   "metadata": {
    "colab": {
     "autoexec": {
      "startup": false,
      "wait_interval": 0
     },
     "base_uri": "https://localhost:8080/",
     "height": 34,
     "output_extras": [
      {}
     ]
    },
    "colab_type": "code",
    "executionInfo": {
     "elapsed": 781,
     "status": "ok",
     "timestamp": 1522209082210,
     "user": {
      "displayName": "Muhammad Rafiul Ilmi Syarifudin",
      "photoUrl": "//lh4.googleusercontent.com/-CpdhylvG3Yc/AAAAAAAAAAI/AAAAAAAAAx0/Ug2JeW-smSE/s50-c-k-no/photo.jpg",
      "userId": "116730841804462629249"
     },
     "user_tz": -420
    },
    "id": "W2Gq1xf3uhx1",
    "outputId": "73f206af-17c0-427b-a483-8ea96b396016"
   },
   "outputs": [
    {
     "data": {
      "text/plain": [
       "False"
      ]
     },
     "execution_count": 13,
     "metadata": {
      "tags": []
     },
     "output_type": "execute_result"
    }
   ],
   "source": [
    "# == is Equal\n",
    "a == b"
   ]
  },
  {
   "cell_type": "code",
   "execution_count": 0,
   "metadata": {
    "colab": {
     "autoexec": {
      "startup": false,
      "wait_interval": 0
     },
     "base_uri": "https://localhost:8080/",
     "height": 34,
     "output_extras": [
      {}
     ]
    },
    "colab_type": "code",
    "executionInfo": {
     "elapsed": 746,
     "status": "ok",
     "timestamp": 1522209084686,
     "user": {
      "displayName": "Muhammad Rafiul Ilmi Syarifudin",
      "photoUrl": "//lh4.googleusercontent.com/-CpdhylvG3Yc/AAAAAAAAAAI/AAAAAAAAAx0/Ug2JeW-smSE/s50-c-k-no/photo.jpg",
      "userId": "116730841804462629249"
     },
     "user_tz": -420
    },
    "id": "wVqeIVAMuy-M",
    "outputId": "346ebce2-3fd4-4f63-d2e0-4be4bfbb279a"
   },
   "outputs": [
    {
     "data": {
      "text/plain": [
       "True"
      ]
     },
     "execution_count": 14,
     "metadata": {
      "tags": []
     },
     "output_type": "execute_result"
    }
   ],
   "source": [
    "a == 10"
   ]
  },
  {
   "cell_type": "code",
   "execution_count": 0,
   "metadata": {
    "colab": {
     "autoexec": {
      "startup": false,
      "wait_interval": 0
     },
     "base_uri": "https://localhost:8080/",
     "height": 34,
     "output_extras": [
      {}
     ]
    },
    "colab_type": "code",
    "executionInfo": {
     "elapsed": 725,
     "status": "ok",
     "timestamp": 1522209116347,
     "user": {
      "displayName": "Muhammad Rafiul Ilmi Syarifudin",
      "photoUrl": "//lh4.googleusercontent.com/-CpdhylvG3Yc/AAAAAAAAAAI/AAAAAAAAAx0/Ug2JeW-smSE/s50-c-k-no/photo.jpg",
      "userId": "116730841804462629249"
     },
     "user_tz": -420
    },
    "id": "rwU0rb-Cu1HO",
    "outputId": "053704b9-80cc-4124-bb4c-f917a489919d"
   },
   "outputs": [
    {
     "data": {
      "text/plain": [
       "True"
      ]
     },
     "execution_count": 15,
     "metadata": {
      "tags": []
     },
     "output_type": "execute_result"
    }
   ],
   "source": [
    "# != is not Equal\n",
    "a != b"
   ]
  },
  {
   "cell_type": "code",
   "execution_count": 0,
   "metadata": {
    "colab": {
     "autoexec": {
      "startup": false,
      "wait_interval": 0
     },
     "base_uri": "https://localhost:8080/",
     "height": 34,
     "output_extras": [
      {}
     ]
    },
    "colab_type": "code",
    "executionInfo": {
     "elapsed": 702,
     "status": "ok",
     "timestamp": 1522209121937,
     "user": {
      "displayName": "Muhammad Rafiul Ilmi Syarifudin",
      "photoUrl": "//lh4.googleusercontent.com/-CpdhylvG3Yc/AAAAAAAAAAI/AAAAAAAAAx0/Ug2JeW-smSE/s50-c-k-no/photo.jpg",
      "userId": "116730841804462629249"
     },
     "user_tz": -420
    },
    "id": "XFoyuSaLu82A",
    "outputId": "bc0d4649-e983-4fad-de3f-2228bd6aad0b"
   },
   "outputs": [
    {
     "data": {
      "text/plain": [
       "False"
      ]
     },
     "execution_count": 16,
     "metadata": {
      "tags": []
     },
     "output_type": "execute_result"
    }
   ],
   "source": [
    "a != 10"
   ]
  },
  {
   "cell_type": "code",
   "execution_count": 0,
   "metadata": {
    "colab": {
     "autoexec": {
      "startup": false,
      "wait_interval": 0
     },
     "base_uri": "https://localhost:8080/",
     "height": 34,
     "output_extras": [
      {}
     ]
    },
    "colab_type": "code",
    "executionInfo": {
     "elapsed": 754,
     "status": "ok",
     "timestamp": 1522209160342,
     "user": {
      "displayName": "Muhammad Rafiul Ilmi Syarifudin",
      "photoUrl": "//lh4.googleusercontent.com/-CpdhylvG3Yc/AAAAAAAAAAI/AAAAAAAAAx0/Ug2JeW-smSE/s50-c-k-no/photo.jpg",
      "userId": "116730841804462629249"
     },
     "user_tz": -420
    },
    "id": "Ou9mKoexu-OD",
    "outputId": "7928ea5f-5acc-4238-db2a-c775a4592344"
   },
   "outputs": [
    {
     "data": {
      "text/plain": [
       "True"
      ]
     },
     "execution_count": 17,
     "metadata": {
      "tags": []
     },
     "output_type": "execute_result"
    }
   ],
   "source": [
    "# > greater than\n",
    "b > a"
   ]
  },
  {
   "cell_type": "code",
   "execution_count": 0,
   "metadata": {
    "colab": {
     "autoexec": {
      "startup": false,
      "wait_interval": 0
     },
     "base_uri": "https://localhost:8080/",
     "height": 34,
     "output_extras": [
      {}
     ]
    },
    "colab_type": "code",
    "executionInfo": {
     "elapsed": 963,
     "status": "ok",
     "timestamp": 1522209175474,
     "user": {
      "displayName": "Muhammad Rafiul Ilmi Syarifudin",
      "photoUrl": "//lh4.googleusercontent.com/-CpdhylvG3Yc/AAAAAAAAAAI/AAAAAAAAAx0/Ug2JeW-smSE/s50-c-k-no/photo.jpg",
      "userId": "116730841804462629249"
     },
     "user_tz": -420
    },
    "id": "68XnG3YjvHlD",
    "outputId": "48720e81-59b4-4749-83e8-b0e555119f9d"
   },
   "outputs": [
    {
     "data": {
      "text/plain": [
       "True"
      ]
     },
     "execution_count": 18,
     "metadata": {
      "tags": []
     },
     "output_type": "execute_result"
    }
   ],
   "source": [
    "# < less than\n",
    "a < b"
   ]
  },
  {
   "cell_type": "code",
   "execution_count": 0,
   "metadata": {
    "colab": {
     "autoexec": {
      "startup": false,
      "wait_interval": 0
     },
     "base_uri": "https://localhost:8080/",
     "height": 34,
     "output_extras": [
      {}
     ]
    },
    "colab_type": "code",
    "executionInfo": {
     "elapsed": 610,
     "status": "ok",
     "timestamp": 1522209219387,
     "user": {
      "displayName": "Muhammad Rafiul Ilmi Syarifudin",
      "photoUrl": "//lh4.googleusercontent.com/-CpdhylvG3Yc/AAAAAAAAAAI/AAAAAAAAAx0/Ug2JeW-smSE/s50-c-k-no/photo.jpg",
      "userId": "116730841804462629249"
     },
     "user_tz": -420
    },
    "id": "sCBM8LlzvLOE",
    "outputId": "bbed8d09-2912-4527-8f8a-bd62fcf3ee3c"
   },
   "outputs": [
    {
     "data": {
      "text/plain": [
       "True"
      ]
     },
     "execution_count": 19,
     "metadata": {
      "tags": []
     },
     "output_type": "execute_result"
    }
   ],
   "source": [
    "# >= greater or equal\n",
    "b >= a"
   ]
  },
  {
   "cell_type": "code",
   "execution_count": 0,
   "metadata": {
    "colab": {
     "autoexec": {
      "startup": false,
      "wait_interval": 0
     },
     "base_uri": "https://localhost:8080/",
     "height": 34,
     "output_extras": [
      {}
     ]
    },
    "colab_type": "code",
    "executionInfo": {
     "elapsed": 739,
     "status": "ok",
     "timestamp": 1522209223518,
     "user": {
      "displayName": "Muhammad Rafiul Ilmi Syarifudin",
      "photoUrl": "//lh4.googleusercontent.com/-CpdhylvG3Yc/AAAAAAAAAAI/AAAAAAAAAx0/Ug2JeW-smSE/s50-c-k-no/photo.jpg",
      "userId": "116730841804462629249"
     },
     "user_tz": -420
    },
    "id": "Jq4T4pdbvWBi",
    "outputId": "e30cefa5-bd1f-4b4c-ba82-5ae612ad9ce7"
   },
   "outputs": [
    {
     "data": {
      "text/plain": [
       "True"
      ]
     },
     "execution_count": 20,
     "metadata": {
      "tags": []
     },
     "output_type": "execute_result"
    }
   ],
   "source": [
    "b >= 21"
   ]
  },
  {
   "cell_type": "code",
   "execution_count": 0,
   "metadata": {
    "colab": {
     "autoexec": {
      "startup": false,
      "wait_interval": 0
     },
     "base_uri": "https://localhost:8080/",
     "height": 34,
     "output_extras": [
      {}
     ]
    },
    "colab_type": "code",
    "executionInfo": {
     "elapsed": 761,
     "status": "ok",
     "timestamp": 1522209240724,
     "user": {
      "displayName": "Muhammad Rafiul Ilmi Syarifudin",
      "photoUrl": "//lh4.googleusercontent.com/-CpdhylvG3Yc/AAAAAAAAAAI/AAAAAAAAAx0/Ug2JeW-smSE/s50-c-k-no/photo.jpg",
      "userId": "116730841804462629249"
     },
     "user_tz": -420
    },
    "id": "lF-q2eMQvXAg",
    "outputId": "751ca10c-85aa-4268-c148-d89bfff7ea35"
   },
   "outputs": [
    {
     "data": {
      "text/plain": [
       "True"
      ]
     },
     "execution_count": 21,
     "metadata": {
      "tags": []
     },
     "output_type": "execute_result"
    }
   ],
   "source": [
    "# <= less or equal\n",
    "a <= b"
   ]
  },
  {
   "cell_type": "code",
   "execution_count": 0,
   "metadata": {
    "colab": {
     "autoexec": {
      "startup": false,
      "wait_interval": 0
     },
     "base_uri": "https://localhost:8080/",
     "height": 34,
     "output_extras": [
      {}
     ]
    },
    "colab_type": "code",
    "executionInfo": {
     "elapsed": 718,
     "status": "ok",
     "timestamp": 1522209245892,
     "user": {
      "displayName": "Muhammad Rafiul Ilmi Syarifudin",
      "photoUrl": "//lh4.googleusercontent.com/-CpdhylvG3Yc/AAAAAAAAAAI/AAAAAAAAAx0/Ug2JeW-smSE/s50-c-k-no/photo.jpg",
      "userId": "116730841804462629249"
     },
     "user_tz": -420
    },
    "id": "ZFzZC9PpvbMt",
    "outputId": "497cba8c-e02b-4e99-98e6-f11ee5ba62b6"
   },
   "outputs": [
    {
     "data": {
      "text/plain": [
       "True"
      ]
     },
     "execution_count": 22,
     "metadata": {
      "tags": []
     },
     "output_type": "execute_result"
    }
   ],
   "source": [
    "a <= 10"
   ]
  },
  {
   "cell_type": "markdown",
   "metadata": {
    "colab_type": "text",
    "id": "on3ruZyzvfXO"
   },
   "source": [
    "## Assignment\n",
    "**Operator**|**Description**|**Example**\n",
    ":-----:|:-----:|:-----:\n",
    "=|Assigns values from right side operands to left side operand|c = a + b assigns value of a + b into c\n",
    "+= Add AND|It adds right operand to the left operand and assign the result to left operand|c += a is equivalent to c = c + a\n",
    "-= Subtract AND|It subtracts right operand from the left operand and assign the result to left operand|c -= a is equivalent to c = c - a\n",
    "*= Multiply AND|It multiplies right operand with the left operand and assign the result to left operand|c *= a is equivalent to c = c * a\n",
    "/= Divide AND|It divides left operand with the right operand and assign the result to left operand|c /= a is equivalent to c = c / a\n",
    "%= Modulus AND|It takes modulus using two operands and assign the result to left operand|c %= a is equivalent to c = c % a\n",
    "**= Exponent AND|Performs exponential (power) calculation on operators and assign value to the left operand|c **= a is equivalent to c = c ** a\n",
    "//= Floor Division|It performs floor division on operators and assign value to the left operand|c //= a is equivalent to c = c // a"
   ]
  },
  {
   "cell_type": "code",
   "execution_count": 0,
   "metadata": {
    "colab": {
     "autoexec": {
      "startup": false,
      "wait_interval": 0
     },
     "base_uri": "https://localhost:8080/",
     "height": 34,
     "output_extras": [
      {}
     ]
    },
    "colab_type": "code",
    "executionInfo": {
     "elapsed": 1040,
     "status": "ok",
     "timestamp": 1522210924084,
     "user": {
      "displayName": "Muhammad Rafiul Ilmi Syarifudin",
      "photoUrl": "//lh4.googleusercontent.com/-CpdhylvG3Yc/AAAAAAAAAAI/AAAAAAAAAx0/Ug2JeW-smSE/s50-c-k-no/photo.jpg",
      "userId": "116730841804462629249"
     },
     "user_tz": -420
    },
    "id": "8zq9Woyf1ryH",
    "outputId": "b4d9133f-330f-478f-ef0a-213a95cc99db"
   },
   "outputs": [
    {
     "name": "stdout",
     "output_type": "stream",
     "text": [
      "31\n"
     ]
    }
   ],
   "source": [
    "# = Assign\n",
    "c = a + b\n",
    "print(c)"
   ]
  },
  {
   "cell_type": "code",
   "execution_count": 0,
   "metadata": {
    "colab": {
     "autoexec": {
      "startup": false,
      "wait_interval": 0
     },
     "base_uri": "https://localhost:8080/",
     "height": 34,
     "output_extras": [
      {}
     ]
    },
    "colab_type": "code",
    "executionInfo": {
     "elapsed": 1280,
     "status": "ok",
     "timestamp": 1522210991784,
     "user": {
      "displayName": "Muhammad Rafiul Ilmi Syarifudin",
      "photoUrl": "//lh4.googleusercontent.com/-CpdhylvG3Yc/AAAAAAAAAAI/AAAAAAAAAx0/Ug2JeW-smSE/s50-c-k-no/photo.jpg",
      "userId": "116730841804462629249"
     },
     "user_tz": -420
    },
    "id": "l6aDgc3o1zn_",
    "outputId": "4e405948-85ee-435c-a44d-ac891861daa7"
   },
   "outputs": [
    {
     "name": "stdout",
     "output_type": "stream",
     "text": [
      "41\n"
     ]
    }
   ],
   "source": [
    "# += Add and\n",
    "c += a # is equivalent c = c + a\n",
    "print(c)"
   ]
  },
  {
   "cell_type": "code",
   "execution_count": 0,
   "metadata": {
    "colab": {
     "autoexec": {
      "startup": false,
      "wait_interval": 0
     },
     "base_uri": "https://localhost:8080/",
     "height": 34,
     "output_extras": [
      {}
     ]
    },
    "colab_type": "code",
    "executionInfo": {
     "elapsed": 958,
     "status": "ok",
     "timestamp": 1522211039462,
     "user": {
      "displayName": "Muhammad Rafiul Ilmi Syarifudin",
      "photoUrl": "//lh4.googleusercontent.com/-CpdhylvG3Yc/AAAAAAAAAAI/AAAAAAAAAx0/Ug2JeW-smSE/s50-c-k-no/photo.jpg",
      "userId": "116730841804462629249"
     },
     "user_tz": -420
    },
    "id": "JP6yauRH2GlC",
    "outputId": "1aadc45a-0211-4712-be8f-e3f68b5e5edf"
   },
   "outputs": [
    {
     "name": "stdout",
     "output_type": "stream",
     "text": [
      "31\n"
     ]
    }
   ],
   "source": [
    "# Substract and\n",
    "c -= a # is equivalent c = c - a\n",
    "print(c)"
   ]
  },
  {
   "cell_type": "code",
   "execution_count": 0,
   "metadata": {
    "colab": {
     "autoexec": {
      "startup": false,
      "wait_interval": 0
     },
     "base_uri": "https://localhost:8080/",
     "height": 34,
     "output_extras": [
      {}
     ]
    },
    "colab_type": "code",
    "executionInfo": {
     "elapsed": 827,
     "status": "ok",
     "timestamp": 1522211072140,
     "user": {
      "displayName": "Muhammad Rafiul Ilmi Syarifudin",
      "photoUrl": "//lh4.googleusercontent.com/-CpdhylvG3Yc/AAAAAAAAAAI/AAAAAAAAAx0/Ug2JeW-smSE/s50-c-k-no/photo.jpg",
      "userId": "116730841804462629249"
     },
     "user_tz": -420
    },
    "id": "2o17itPH2STD",
    "outputId": "0720b0fe-f327-41c9-9f7f-5659ff5ee6f1"
   },
   "outputs": [
    {
     "name": "stdout",
     "output_type": "stream",
     "text": [
      "310\n"
     ]
    }
   ],
   "source": [
    "# *= multiply and\n",
    "c *= a # is equivalent c = c * a\n",
    "print(c)"
   ]
  },
  {
   "cell_type": "code",
   "execution_count": 0,
   "metadata": {
    "colab": {
     "autoexec": {
      "startup": false,
      "wait_interval": 0
     },
     "base_uri": "https://localhost:8080/",
     "height": 34,
     "output_extras": [
      {}
     ]
    },
    "colab_type": "code",
    "executionInfo": {
     "elapsed": 830,
     "status": "ok",
     "timestamp": 1522211155336,
     "user": {
      "displayName": "Muhammad Rafiul Ilmi Syarifudin",
      "photoUrl": "//lh4.googleusercontent.com/-CpdhylvG3Yc/AAAAAAAAAAI/AAAAAAAAAx0/Ug2JeW-smSE/s50-c-k-no/photo.jpg",
      "userId": "116730841804462629249"
     },
     "user_tz": -420
    },
    "id": "MNBmWmaM2aTo",
    "outputId": "fb9f0637-c5cb-4dd6-e975-68593e4d6e8a"
   },
   "outputs": [
    {
     "name": "stdout",
     "output_type": "stream",
     "text": [
      "31\n"
     ]
    }
   ],
   "source": [
    "# /= Divide and\n",
    "c /= a # is equivalent c = c/a\n",
    "print(c)"
   ]
  },
  {
   "cell_type": "code",
   "execution_count": 0,
   "metadata": {
    "colab": {
     "autoexec": {
      "startup": false,
      "wait_interval": 0
     },
     "base_uri": "https://localhost:8080/",
     "height": 34,
     "output_extras": [
      {}
     ]
    },
    "colab_type": "code",
    "executionInfo": {
     "elapsed": 768,
     "status": "ok",
     "timestamp": 1522211202029,
     "user": {
      "displayName": "Muhammad Rafiul Ilmi Syarifudin",
      "photoUrl": "//lh4.googleusercontent.com/-CpdhylvG3Yc/AAAAAAAAAAI/AAAAAAAAAx0/Ug2JeW-smSE/s50-c-k-no/photo.jpg",
      "userId": "116730841804462629249"
     },
     "user_tz": -420
    },
    "id": "kK55fMPr2unn",
    "outputId": "b5a2e625-8c84-4f03-9022-0afa7be92a4d"
   },
   "outputs": [
    {
     "name": "stdout",
     "output_type": "stream",
     "text": [
      "1\n"
     ]
    }
   ],
   "source": [
    "# %= Modulus and\n",
    "c %= a # is equivalent c = c % a \n",
    "print(c)"
   ]
  },
  {
   "cell_type": "code",
   "execution_count": 0,
   "metadata": {
    "colab": {
     "autoexec": {
      "startup": false,
      "wait_interval": 0
     },
     "base_uri": "https://localhost:8080/",
     "height": 34,
     "output_extras": [
      {}
     ]
    },
    "colab_type": "code",
    "executionInfo": {
     "elapsed": 796,
     "status": "ok",
     "timestamp": 1522211267808,
     "user": {
      "displayName": "Muhammad Rafiul Ilmi Syarifudin",
      "photoUrl": "//lh4.googleusercontent.com/-CpdhylvG3Yc/AAAAAAAAAAI/AAAAAAAAAx0/Ug2JeW-smSE/s50-c-k-no/photo.jpg",
      "userId": "116730841804462629249"
     },
     "user_tz": -420
    },
    "id": "cYqgdubQ26CA",
    "outputId": "78f8296e-f4bd-4bee-aafa-79ccefa68a7d"
   },
   "outputs": [
    {
     "name": "stdout",
     "output_type": "stream",
     "text": [
      "1\n"
     ]
    }
   ],
   "source": [
    "# **= exponent and\n",
    "c**=a # is equivalent c = c**a\n",
    "print(c)"
   ]
  },
  {
   "cell_type": "code",
   "execution_count": 0,
   "metadata": {
    "colab": {
     "autoexec": {
      "startup": false,
      "wait_interval": 0
     },
     "base_uri": "https://localhost:8080/",
     "height": 34,
     "output_extras": [
      {}
     ]
    },
    "colab_type": "code",
    "executionInfo": {
     "elapsed": 1105,
     "status": "ok",
     "timestamp": 1522211313479,
     "user": {
      "displayName": "Muhammad Rafiul Ilmi Syarifudin",
      "photoUrl": "//lh4.googleusercontent.com/-CpdhylvG3Yc/AAAAAAAAAAI/AAAAAAAAAx0/Ug2JeW-smSE/s50-c-k-no/photo.jpg",
      "userId": "116730841804462629249"
     },
     "user_tz": -420
    },
    "id": "jKJ_f95W3KFf",
    "outputId": "ee89eefa-847a-420c-b88f-448cbcbab926"
   },
   "outputs": [
    {
     "name": "stdout",
     "output_type": "stream",
     "text": [
      "0\n"
     ]
    }
   ],
   "source": [
    "# //= Floor division\n",
    "c //= a # is equivalent c = c // a\n",
    "print(c)"
   ]
  },
  {
   "cell_type": "markdown",
   "metadata": {
    "colab_type": "text",
    "id": "ORzSLJct3YOq"
   },
   "source": [
    "## Bitwise\n",
    "Bitwise operator works on bits and performs bit-by-bit operation. Assume if a = 60; and b = 13; Now in binary format they will be as follows:\n",
    "\n",
    "a = 0011 1100\n",
    "\n",
    "b = 0000 1101\n",
    "\n",
    "-----------------\n",
    "\n",
    "a&b = 0000 1100\n",
    "\n",
    "a|b = 0011 1101\n",
    "\n",
    "a^b = 0011 0001\n",
    "\n",
    "~a = 1100 0011\n",
    "\n",
    "Python's built-in function bin() can be used to obtain binary representation of an integer number.\n",
    "\n",
    "**Operator**|**Description**|**Example**\n",
    ":-----:|:-----:|:-----:\n",
    "& Binary AND|Operator copies a bit, to the result, if it exists in both operands|(a & b) (means 0000 1100)\n",
    "^ Binary XOR|It copies the bit, if it is set in one operand but not both.|(a ^ b) = 49 (means 0011 0001)\n",
    "~ Binary Ones Complement|It is unary and has the effect of 'flipping' bits.|(~a ) = -61 (means 1100 0011 in 2's complement form due to a signed binary number.\n",
    "<< Binary Left Shift|The left operand's value is moved left by the number of bits specified by the right operand.|a << = 240 (means 1111 0000)\n",
    ">> Binary Right Shift|The left operand's value is moved right by the number of bits specified by the right operand.|a >> = 15 (means 0000 1111)\n",
    "Binary OR|It copies a bit, if it exists in either operand.|(a \\ b) = 61 (means 0011 1101)"
   ]
  },
  {
   "cell_type": "code",
   "execution_count": 0,
   "metadata": {
    "colab": {
     "autoexec": {
      "startup": false,
      "wait_interval": 0
     }
    },
    "colab_type": "code",
    "id": "EgmAe0vN4ZVb"
   },
   "outputs": [],
   "source": [
    "a = 60\n",
    "b = 13"
   ]
  },
  {
   "cell_type": "code",
   "execution_count": 40,
   "metadata": {
    "colab": {
     "autoexec": {
      "startup": false,
      "wait_interval": 0
     },
     "base_uri": "https://localhost:8080/",
     "height": 51,
     "output_extras": [
      {
       "item_id": 1
      }
     ]
    },
    "colab_type": "code",
    "executionInfo": {
     "elapsed": 862,
     "status": "ok",
     "timestamp": 1522216037259,
     "user": {
      "displayName": "Muhammad Rafiul Ilmi Syarifudin",
      "photoUrl": "//lh4.googleusercontent.com/-CpdhylvG3Yc/AAAAAAAAAAI/AAAAAAAAAx0/Ug2JeW-smSE/s50-c-k-no/photo.jpg",
      "userId": "116730841804462629249"
     },
     "user_tz": -420
    },
    "id": "gXedsOU1In3q",
    "outputId": "2d816564-40a4-4f8d-ef84-8516f0e76a3c"
   },
   "outputs": [
    {
     "name": "stdout",
     "output_type": "stream",
     "text": [
      "0b111100\n",
      "0b1101\n"
     ]
    }
   ],
   "source": [
    "print(bin(a))\n",
    "print(bin(b))"
   ]
  },
  {
   "cell_type": "code",
   "execution_count": 41,
   "metadata": {
    "colab": {
     "autoexec": {
      "startup": false,
      "wait_interval": 0
     },
     "base_uri": "https://localhost:8080/",
     "height": 51,
     "output_extras": [
      {
       "item_id": 1
      }
     ]
    },
    "colab_type": "code",
    "executionInfo": {
     "elapsed": 829,
     "status": "ok",
     "timestamp": 1522216082267,
     "user": {
      "displayName": "Muhammad Rafiul Ilmi Syarifudin",
      "photoUrl": "//lh4.googleusercontent.com/-CpdhylvG3Yc/AAAAAAAAAAI/AAAAAAAAAx0/Ug2JeW-smSE/s50-c-k-no/photo.jpg",
      "userId": "116730841804462629249"
     },
     "user_tz": -420
    },
    "id": "dfROg138Ir27",
    "outputId": "aed75c4e-dcc4-4f86-a09d-fad0fd795d4d"
   },
   "outputs": [
    {
     "name": "stdout",
     "output_type": "stream",
     "text": [
      "12\n",
      "0b1100\n"
     ]
    }
   ],
   "source": [
    "# & Binary and\n",
    "print(a&b)\n",
    "print(bin(a&b))"
   ]
  },
  {
   "cell_type": "code",
   "execution_count": 42,
   "metadata": {
    "colab": {
     "autoexec": {
      "startup": false,
      "wait_interval": 0
     },
     "base_uri": "https://localhost:8080/",
     "height": 51,
     "output_extras": [
      {
       "item_id": 1
      }
     ]
    },
    "colab_type": "code",
    "executionInfo": {
     "elapsed": 717,
     "status": "ok",
     "timestamp": 1522216322497,
     "user": {
      "displayName": "Muhammad Rafiul Ilmi Syarifudin",
      "photoUrl": "//lh4.googleusercontent.com/-CpdhylvG3Yc/AAAAAAAAAAI/AAAAAAAAAx0/Ug2JeW-smSE/s50-c-k-no/photo.jpg",
      "userId": "116730841804462629249"
     },
     "user_tz": -420
    },
    "id": "w9dTa2ZnI7gV",
    "outputId": "51ac9bc7-2082-4640-d1bd-b5ff397142bf"
   },
   "outputs": [
    {
     "name": "stdout",
     "output_type": "stream",
     "text": [
      "61\n",
      "0b111101\n"
     ]
    }
   ],
   "source": [
    "# | Binary or\n",
    "print(a|b)\n",
    "print(bin(a|b))"
   ]
  },
  {
   "cell_type": "code",
   "execution_count": 43,
   "metadata": {
    "colab": {
     "autoexec": {
      "startup": false,
      "wait_interval": 0
     },
     "base_uri": "https://localhost:8080/",
     "height": 51,
     "output_extras": [
      {
       "item_id": 1
      }
     ]
    },
    "colab_type": "code",
    "executionInfo": {
     "elapsed": 866,
     "status": "ok",
     "timestamp": 1522216362407,
     "user": {
      "displayName": "Muhammad Rafiul Ilmi Syarifudin",
      "photoUrl": "//lh4.googleusercontent.com/-CpdhylvG3Yc/AAAAAAAAAAI/AAAAAAAAAx0/Ug2JeW-smSE/s50-c-k-no/photo.jpg",
      "userId": "116730841804462629249"
     },
     "user_tz": -420
    },
    "id": "M5_kGVeiKcKS",
    "outputId": "22f2c379-9fd1-4c49-b300-fe1576f76872"
   },
   "outputs": [
    {
     "name": "stdout",
     "output_type": "stream",
     "text": [
      "49\n",
      "0b110001\n"
     ]
    }
   ],
   "source": [
    "# ^ Binary xor\n",
    "print(a^b)\n",
    "print(bin(a^b))"
   ]
  },
  {
   "cell_type": "code",
   "execution_count": 45,
   "metadata": {
    "colab": {
     "autoexec": {
      "startup": false,
      "wait_interval": 0
     },
     "base_uri": "https://localhost:8080/",
     "height": 85,
     "output_extras": [
      {
       "item_id": 1
      }
     ]
    },
    "colab_type": "code",
    "executionInfo": {
     "elapsed": 1252,
     "status": "ok",
     "timestamp": 1522216522412,
     "user": {
      "displayName": "Muhammad Rafiul Ilmi Syarifudin",
      "photoUrl": "//lh4.googleusercontent.com/-CpdhylvG3Yc/AAAAAAAAAAI/AAAAAAAAAx0/Ug2JeW-smSE/s50-c-k-no/photo.jpg",
      "userId": "116730841804462629249"
     },
     "user_tz": -420
    },
    "id": "IhoiXXHxKl3W",
    "outputId": "52adf331-d8f7-4c4b-8f3f-1758fcc7615b"
   },
   "outputs": [
    {
     "name": "stdout",
     "output_type": "stream",
     "text": [
      "240\n",
      "0b11110000\n",
      "120\n",
      "0b1111000\n"
     ]
    }
   ],
   "source": [
    "# << Binary left shift\n",
    "print(a<<2)\n",
    "print(bin(a<<2))\n",
    "print(a<<1)\n",
    "print(bin(a<<1))"
   ]
  },
  {
   "cell_type": "code",
   "execution_count": 46,
   "metadata": {
    "colab": {
     "autoexec": {
      "startup": false,
      "wait_interval": 0
     },
     "base_uri": "https://localhost:8080/",
     "height": 85,
     "output_extras": [
      {
       "item_id": 1
      }
     ]
    },
    "colab_type": "code",
    "executionInfo": {
     "elapsed": 894,
     "status": "ok",
     "timestamp": 1522216657847,
     "user": {
      "displayName": "Muhammad Rafiul Ilmi Syarifudin",
      "photoUrl": "//lh4.googleusercontent.com/-CpdhylvG3Yc/AAAAAAAAAAI/AAAAAAAAAx0/Ug2JeW-smSE/s50-c-k-no/photo.jpg",
      "userId": "116730841804462629249"
     },
     "user_tz": -420
    },
    "id": "tWFxjWpBK-27",
    "outputId": "a7aca101-0e8b-488e-8a7c-741058fffaaa"
   },
   "outputs": [
    {
     "name": "stdout",
     "output_type": "stream",
     "text": [
      "15\n",
      "0b1111\n",
      "30\n",
      "0b11110\n"
     ]
    }
   ],
   "source": [
    "# >> Binary right shift\n",
    "print(a>>2)\n",
    "print(bin(a>>2))\n",
    "print(a>>1)\n",
    "print(bin(a>>1))\n"
   ]
  },
  {
   "cell_type": "markdown",
   "metadata": {
    "colab_type": "text",
    "id": "wMwbCLXiLzKG"
   },
   "source": [
    "## Logical Operators\n",
    "The following logical operators are supported by Python language. Assume variable a holds True and variable b holds False then:"
   ]
  },
  {
   "cell_type": "code",
   "execution_count": 0,
   "metadata": {
    "colab": {
     "autoexec": {
      "startup": false,
      "wait_interval": 0
     }
    },
    "colab_type": "code",
    "id": "MajUKSFhQbWB"
   },
   "outputs": [],
   "source": [
    "a = True\n",
    "b = False"
   ]
  },
  {
   "cell_type": "code",
   "execution_count": 48,
   "metadata": {
    "colab": {
     "autoexec": {
      "startup": false,
      "wait_interval": 0
     },
     "base_uri": "https://localhost:8080/",
     "height": 34,
     "output_extras": [
      {
       "item_id": 1
      }
     ]
    },
    "colab_type": "code",
    "executionInfo": {
     "elapsed": 739,
     "status": "ok",
     "timestamp": 1522217921302,
     "user": {
      "displayName": "Muhammad Rafiul Ilmi Syarifudin",
      "photoUrl": "//lh4.googleusercontent.com/-CpdhylvG3Yc/AAAAAAAAAAI/AAAAAAAAAx0/Ug2JeW-smSE/s50-c-k-no/photo.jpg",
      "userId": "116730841804462629249"
     },
     "user_tz": -420
    },
    "id": "xb3QyxuaQhln",
    "outputId": "296ccd66-e267-45f0-a63c-4f7a3f4e6d46"
   },
   "outputs": [
    {
     "data": {
      "text/plain": [
       "False"
      ]
     },
     "execution_count": 48,
     "metadata": {
      "tags": []
     },
     "output_type": "execute_result"
    }
   ],
   "source": [
    "a and b"
   ]
  },
  {
   "cell_type": "code",
   "execution_count": 49,
   "metadata": {
    "colab": {
     "autoexec": {
      "startup": false,
      "wait_interval": 0
     },
     "base_uri": "https://localhost:8080/",
     "height": 34,
     "output_extras": [
      {
       "item_id": 1
      }
     ]
    },
    "colab_type": "code",
    "executionInfo": {
     "elapsed": 727,
     "status": "ok",
     "timestamp": 1522217927188,
     "user": {
      "displayName": "Muhammad Rafiul Ilmi Syarifudin",
      "photoUrl": "//lh4.googleusercontent.com/-CpdhylvG3Yc/AAAAAAAAAAI/AAAAAAAAAx0/Ug2JeW-smSE/s50-c-k-no/photo.jpg",
      "userId": "116730841804462629249"
     },
     "user_tz": -420
    },
    "id": "_lurdIyPQifE",
    "outputId": "f26b57fa-7894-4324-8901-9013a9efd96f"
   },
   "outputs": [
    {
     "data": {
      "text/plain": [
       "True"
      ]
     },
     "execution_count": 49,
     "metadata": {
      "tags": []
     },
     "output_type": "execute_result"
    }
   ],
   "source": [
    "a or b"
   ]
  },
  {
   "cell_type": "code",
   "execution_count": 51,
   "metadata": {
    "colab": {
     "autoexec": {
      "startup": false,
      "wait_interval": 0
     },
     "base_uri": "https://localhost:8080/",
     "height": 34,
     "output_extras": [
      {
       "item_id": 1
      }
     ]
    },
    "colab_type": "code",
    "executionInfo": {
     "elapsed": 1003,
     "status": "ok",
     "timestamp": 1522217944041,
     "user": {
      "displayName": "Muhammad Rafiul Ilmi Syarifudin",
      "photoUrl": "//lh4.googleusercontent.com/-CpdhylvG3Yc/AAAAAAAAAAI/AAAAAAAAAx0/Ug2JeW-smSE/s50-c-k-no/photo.jpg",
      "userId": "116730841804462629249"
     },
     "user_tz": -420
    },
    "id": "08lYWx6fQj7c",
    "outputId": "c9c0fdd2-d078-4595-b9f2-b867408ac543"
   },
   "outputs": [
    {
     "data": {
      "text/plain": [
       "True"
      ]
     },
     "execution_count": 51,
     "metadata": {
      "tags": []
     },
     "output_type": "execute_result"
    }
   ],
   "source": [
    "not(a and b)"
   ]
  },
  {
   "cell_type": "markdown",
   "metadata": {
    "colab_type": "text",
    "id": "GA4NRl7tQvsR"
   },
   "source": [
    "## Identity Operator\n",
    "Identity operators compare **the memory locations** of two objects.\n",
    "\n",
    "**Operator**|**Description**|**Example**\n",
    ":-----:|:-----:|:-----:\n",
    "is|Evaluates to true if the variables on either side of the operator point to the same object and false otherwise.|x is y, here is results in 1 if id(x) equals id(y).\n",
    "is not|Evaluates to false if the variables on either side of the operator point to the same object and true otherwise.|x is not y, here is notresults in 1 if id(x) is not equal to id(y)."
   ]
  },
  {
   "cell_type": "code",
   "execution_count": 0,
   "metadata": {
    "colab": {
     "autoexec": {
      "startup": false,
      "wait_interval": 0
     }
    },
    "colab_type": "code",
    "id": "tg4pEnLaQ3Be"
   },
   "outputs": [],
   "source": [
    "a = 20 \n",
    "b = 20"
   ]
  },
  {
   "cell_type": "code",
   "execution_count": 54,
   "metadata": {
    "colab": {
     "autoexec": {
      "startup": false,
      "wait_interval": 0
     },
     "base_uri": "https://localhost:8080/",
     "height": 34,
     "output_extras": [
      {
       "item_id": 1
      }
     ]
    },
    "colab_type": "code",
    "executionInfo": {
     "elapsed": 880,
     "status": "ok",
     "timestamp": 1522218177235,
     "user": {
      "displayName": "Muhammad Rafiul Ilmi Syarifudin",
      "photoUrl": "//lh4.googleusercontent.com/-CpdhylvG3Yc/AAAAAAAAAAI/AAAAAAAAAx0/Ug2JeW-smSE/s50-c-k-no/photo.jpg",
      "userId": "116730841804462629249"
     },
     "user_tz": -420
    },
    "id": "kTk3L84iRTka",
    "outputId": "8a2c088c-dac4-4bc1-d91a-f1de5d6580b4"
   },
   "outputs": [
    {
     "name": "stdout",
     "output_type": "stream",
     "text": [
      "('Line 1', 'a=', 20, ':', 93951253325168, 'b=', 20, ':', 93951253325168)\n"
     ]
    }
   ],
   "source": [
    "print('Line 1','a=',a,':',id(a), 'b=',b,':',id(b))"
   ]
  },
  {
   "cell_type": "code",
   "execution_count": 55,
   "metadata": {
    "colab": {
     "autoexec": {
      "startup": false,
      "wait_interval": 0
     },
     "base_uri": "https://localhost:8080/",
     "height": 34,
     "output_extras": [
      {
       "item_id": 1
      }
     ]
    },
    "colab_type": "code",
    "executionInfo": {
     "elapsed": 765,
     "status": "ok",
     "timestamp": 1522218199184,
     "user": {
      "displayName": "Muhammad Rafiul Ilmi Syarifudin",
      "photoUrl": "//lh4.googleusercontent.com/-CpdhylvG3Yc/AAAAAAAAAAI/AAAAAAAAAx0/Ug2JeW-smSE/s50-c-k-no/photo.jpg",
      "userId": "116730841804462629249"
     },
     "user_tz": -420
    },
    "id": "ozqfIYGgRZ_O",
    "outputId": "084420ed-0ff2-4ebe-887d-1da4796a1015"
   },
   "outputs": [
    {
     "name": "stdout",
     "output_type": "stream",
     "text": [
      "Line 2 - a and b have same identity\n"
     ]
    }
   ],
   "source": [
    "if ( a is b ):\n",
    "   print (\"Line 2 - a and b have same identity\")\n",
    "else:\n",
    "   print (\"Line 2 - a and b do not have same identity\")"
   ]
  },
  {
   "cell_type": "code",
   "execution_count": 56,
   "metadata": {
    "colab": {
     "autoexec": {
      "startup": false,
      "wait_interval": 0
     },
     "base_uri": "https://localhost:8080/",
     "height": 34,
     "output_extras": [
      {
       "item_id": 1
      }
     ]
    },
    "colab_type": "code",
    "executionInfo": {
     "elapsed": 782,
     "status": "ok",
     "timestamp": 1522218224987,
     "user": {
      "displayName": "Muhammad Rafiul Ilmi Syarifudin",
      "photoUrl": "//lh4.googleusercontent.com/-CpdhylvG3Yc/AAAAAAAAAAI/AAAAAAAAAx0/Ug2JeW-smSE/s50-c-k-no/photo.jpg",
      "userId": "116730841804462629249"
     },
     "user_tz": -420
    },
    "id": "Hj6AC62tRmUh",
    "outputId": "c69663fe-6891-4760-9983-ca76cd604063"
   },
   "outputs": [
    {
     "name": "stdout",
     "output_type": "stream",
     "text": [
      "Line 3 - a and b have same identity\n"
     ]
    }
   ],
   "source": [
    "if ( id(a) == id(b) ):\n",
    "   print (\"Line 3 - a and b have same identity\")\n",
    "else:\n",
    "   print (\"Line 3 - a and b do not have same identity\")"
   ]
  },
  {
   "cell_type": "code",
   "execution_count": 0,
   "metadata": {
    "colab": {
     "autoexec": {
      "startup": false,
      "wait_interval": 0
     }
    },
    "colab_type": "code",
    "id": "7UctiGd7z-44"
   },
   "outputs": [],
   "source": []
  },
  {
   "cell_type": "code",
   "execution_count": 0,
   "metadata": {
    "colab": {
     "autoexec": {
      "startup": false,
      "wait_interval": 0
     }
    },
    "colab_type": "code",
    "id": "FQAcabrZRsmm"
   },
   "outputs": [],
   "source": [
    "# Change value of b\n",
    "b = 30"
   ]
  },
  {
   "cell_type": "code",
   "execution_count": 58,
   "metadata": {
    "colab": {
     "autoexec": {
      "startup": false,
      "wait_interval": 0
     },
     "base_uri": "https://localhost:8080/",
     "height": 34,
     "output_extras": [
      {
       "item_id": 1
      }
     ]
    },
    "colab_type": "code",
    "executionInfo": {
     "elapsed": 753,
     "status": "ok",
     "timestamp": 1522218264495,
     "user": {
      "displayName": "Muhammad Rafiul Ilmi Syarifudin",
      "photoUrl": "//lh4.googleusercontent.com/-CpdhylvG3Yc/AAAAAAAAAAI/AAAAAAAAAx0/Ug2JeW-smSE/s50-c-k-no/photo.jpg",
      "userId": "116730841804462629249"
     },
     "user_tz": -420
    },
    "id": "rVyzbcp0R06e",
    "outputId": "ce250da2-193f-4c25-9877-6c6274eebae1"
   },
   "outputs": [
    {
     "name": "stdout",
     "output_type": "stream",
     "text": [
      "('Line 4', 'a=', 20, ':', 93951253325168, 'b=', 30, ':', 93951253324928)\n"
     ]
    }
   ],
   "source": [
    "print ('Line 4','a=',a,':',id(a), 'b=',b,':',id(b))"
   ]
  },
  {
   "cell_type": "code",
   "execution_count": 59,
   "metadata": {
    "colab": {
     "autoexec": {
      "startup": false,
      "wait_interval": 0
     },
     "base_uri": "https://localhost:8080/",
     "height": 34,
     "output_extras": [
      {
       "item_id": 1
      }
     ]
    },
    "colab_type": "code",
    "executionInfo": {
     "elapsed": 985,
     "status": "ok",
     "timestamp": 1522218288246,
     "user": {
      "displayName": "Muhammad Rafiul Ilmi Syarifudin",
      "photoUrl": "//lh4.googleusercontent.com/-CpdhylvG3Yc/AAAAAAAAAAI/AAAAAAAAAx0/Ug2JeW-smSE/s50-c-k-no/photo.jpg",
      "userId": "116730841804462629249"
     },
     "user_tz": -420
    },
    "id": "khRfBLnRR2Rf",
    "outputId": "430c74db-af31-4d54-f091-4f5dd41b4b5e"
   },
   "outputs": [
    {
     "name": "stdout",
     "output_type": "stream",
     "text": [
      "Line 5 - a and b do not have same identity\n"
     ]
    }
   ],
   "source": [
    "if ( a is not b ):\n",
    "   print (\"Line 5 - a and b do not have same identity\")\n",
    "else:\n",
    "   print (\"Line 5 - a and b have same identity\")"
   ]
  }
 ],
 "metadata": {
  "colab": {
   "default_view": {},
   "name": "Basic Operator.ipynb",
   "provenance": [],
   "version": "0.3.2",
   "views": {}
  },
  "kernelspec": {
   "display_name": "Python 3",
   "language": "python",
   "name": "python3"
  },
  "language_info": {
   "codemirror_mode": {
    "name": "ipython",
    "version": 3
   },
   "file_extension": ".py",
   "mimetype": "text/x-python",
   "name": "python",
   "nbconvert_exporter": "python",
   "pygments_lexer": "ipython3",
   "version": "3.6.8"
  }
 },
 "nbformat": 4,
 "nbformat_minor": 1
}
