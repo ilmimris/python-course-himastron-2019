{
 "cells": [
  {
   "cell_type": "markdown",
   "metadata": {},
   "source": [
    "# Exercise"
   ]
  },
  {
   "cell_type": "markdown",
   "metadata": {},
   "source": [
    "### 01. Make function to calculate area and volume\n",
    "\n",
    "Area of :\n",
    "- Circle\n",
    "- Rectangle\n",
    "- Triangle\n",
    "- Elips\n",
    "\n",
    "Volume of :\n",
    "- Sphere\n",
    "- Cube\n",
    "\n",
    "for example:\n",
    "```\n",
    "def areaCircle(pi, r):\n",
    "    return (pi*r**2)\n",
    "```\n",
    "\n",
    "please use **math** library and user input variable (not hardcoded)!\n",
    "\n",
    "<br>\n",
    "<div style=\"background-color: rgba(100,250,0,0.5); padding: 10px;\"><h3><span style=\"color:grey;\" class=\"fa fa-info-circle\"> </span> Hint!</h3></div>\n",
    "<hr>\n",
    "\n",
    "user input variable:\n",
    "```\n",
    "radius = input(\"How many radius do you want to calculate ? \")\n",
    "```\n",
    "<hr>"
   ]
  },
  {
   "cell_type": "code",
   "execution_count": 4,
   "metadata": {},
   "outputs": [],
   "source": [
    "# Please Write your code below\n"
   ]
  },
  {
   "cell_type": "markdown",
   "metadata": {},
   "source": [
    "### 02. Make Class of Star that contains physical property of stars and function that return their properties\n",
    "\n",
    "at least a *Star* has information about its **mass, radius, luminosity,** and **temperature**. \n",
    "Also, at least a Star has method or function to return :\n",
    "- apparent magnitude\n",
    "- absolute magnitude\n",
    "- distance\n",
    "\n",
    "for example:\n",
    "```\n",
    "import math\n",
    "\n",
    "class Moon:\n",
    "    def __init__(self, mass, radius):\n",
    "        self.mass   = mass\n",
    "        self.radius = radius\n",
    "    \n",
    "    def surfaceArea(self):\n",
    "        return 4*math.pi*self.radius**2\n",
    "    \n",
    "```\n",
    "\n",
    "<br>\n",
    "<div style=\"background-color: rgba(100,250,0,0.5); padding: 10px;\"><h3><span style=\"color:grey;\" class=\"fa fa-info-circle\"> </span> Hint!</h3></div>\n",
    "<hr>\n",
    "\n",
    "![Pogson](http://4.bp.blogspot.com/-Tp7i1lvMwDc/ULIE39RMlNI/AAAAAAAABOc/e_TAWWRurYQ/s1600/mag4.png)\n",
    "\n",
    "\n",
    "Mass of Sun       : $1.9891 \\times 10^{30}$ kilograms\n",
    "\n",
    "Luminosity of Sun : $3.839 \\times 10^{26}$ W\n",
    "<hr>"
   ]
  },
  {
   "cell_type": "code",
   "execution_count": 9,
   "metadata": {},
   "outputs": [],
   "source": [
    "# Please Write your code below\n"
   ]
  },
  {
   "cell_type": "markdown",
   "metadata": {},
   "source": [
    "### 03. Make function that return sum of fibonacci numbers\n",
    "\n",
    "The Fibonacci numbers are the numbers in the following integer sequence.\n",
    "\n",
    "0, 1, 1, 2, 3, 5, 8, 13, 21, 34, 55, 89, 144, ……..\n",
    "\n",
    "In mathematical terms, the sequence Fn of Fibonacci numbers is defined by the recurrence relation\n",
    "\n",
    "$F_n = F_{n-1} + F_{n-2}$\n",
    "\n",
    "make two function that return sum of fibonacci numbers :\n",
    "- use iterative method\n",
    "- use recursive method\n",
    "\n",
    "\n",
    "\n",
    "<br>\n",
    "<div style=\"background-color: rgba(100,250,0,0.5); padding: 10px;\"><h3><span style=\"color:grey;\" class=\"fa fa-info-circle\"> </span> Hint!</h3></div>\n",
    "<hr>\n",
    "\n",
    "![Recursive and Iterative](https://cdn-images-1.medium.com/max/2400/1*QrQ5uFKIhK3jQSFYeRBIRg.png)"
   ]
  },
  {
   "cell_type": "code",
   "execution_count": 10,
   "metadata": {},
   "outputs": [],
   "source": [
    "# Please Write your code below\n"
   ]
  }
 ],
 "metadata": {
  "kernelspec": {
   "display_name": "Python 3",
   "language": "python",
   "name": "python3"
  },
  "language_info": {
   "codemirror_mode": {
    "name": "ipython",
    "version": 3
   },
   "file_extension": ".py",
   "mimetype": "text/x-python",
   "name": "python",
   "nbconvert_exporter": "python",
   "pygments_lexer": "ipython3",
   "version": "3.6.8"
  }
 },
 "nbformat": 4,
 "nbformat_minor": 2
}
