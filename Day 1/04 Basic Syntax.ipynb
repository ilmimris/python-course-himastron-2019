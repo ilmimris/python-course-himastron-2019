{
 "cells": [
  {
   "cell_type": "markdown",
   "metadata": {
    "colab_type": "text",
    "id": "g3I0-LMIhNT2"
   },
   "source": [
    "> `-- Training IT Himastron | Introduction to Python --` <br/>\n",
    "\n",
    "\n",
    "# Python Identifier\n",
    "---\n",
    "A Python identifier is a name used to identify **a variable, function, class, module or other object**. An identifier starts with a letter A to Z or a to z or an underscore (_) followed by zero or more letters, underscores and digits (0 to 9).\n",
    "\n",
    "Python **does not** allow punctuation characters such as @, $, and % within identifiers. Python is a case sensitive programming language. Thus, **Manpower** and **manpower** are *two different identifiers* in Python.\n",
    "\n",
    "### Convention\n",
    "* **Class** names start with an **uppercase letter**. All other identifiers start with a lowercase letter.\n",
    "* **Starting** an identifier **with a single leading underscore** indicates that the identifier is **private**.\n",
    "* Starting an identifier **with two leading underscores indicates** a **strong private** identifier.\n",
    "* If the identifier also ends with two trailing underscores, the identifier is a language-defined special name.\n",
    "\n",
    "### Reserved Words\n",
    "|         |            |   |\n",
    "| ------------- |-------------| -----|\n",
    "| and | exec | not |\n",
    "| as\t| finally |\tor |\n",
    "| assert |\tfor\t| pass |\n",
    "| break\t| from\t| print |\n",
    "| class\t| global |\traise |\n",
    "| continue | if |\treturn |\n",
    "| def\t| import |\ttry |\n",
    "| del\t| in\t| while |\n",
    "| elif |\tis\t| with |\n",
    "| else\t| lambda |\tyield |\n",
    "| except\t| |\t\n"
   ]
  },
  {
   "cell_type": "code",
   "execution_count": 2,
   "metadata": {
    "colab": {
     "autoexec": {
      "startup": false,
      "wait_interval": 0
     },
     "base_uri": "https://localhost:8080/",
     "height": 34,
     "output_extras": [
      {
       "item_id": 1
      }
     ]
    },
    "colab_type": "code",
    "executionInfo": {
     "elapsed": 649,
     "status": "ok",
     "timestamp": 1522036481531,
     "user": {
      "displayName": "Muhammad Rafiul Ilmi Syarifudin",
      "photoUrl": "//lh4.googleusercontent.com/-CpdhylvG3Yc/AAAAAAAAAAI/AAAAAAAAAx0/Ug2JeW-smSE/s50-c-k-no/photo.jpg",
      "userId": "116730841804462629249"
     },
     "user_tz": -420
    },
    "id": "gvu-9UwSf27O",
    "outputId": "67055945-0065-4fdf-fc3c-71eee0459960"
   },
   "outputs": [
    {
     "name": "stdout",
     "output_type": "stream",
     "text": [
      "This is Variable A\n"
     ]
    }
   ],
   "source": [
    "A = \"This is Variable A\"\n",
    "print(A)"
   ]
  },
  {
   "cell_type": "code",
   "execution_count": 27,
   "metadata": {},
   "outputs": [],
   "source": [
    "var1 = 1e8\n",
    "var2 = 0"
   ]
  },
  {
   "cell_type": "code",
   "execution_count": 30,
   "metadata": {},
   "outputs": [
    {
     "name": "stdout",
     "output_type": "stream",
     "text": [
      "0.0\n"
     ]
    }
   ],
   "source": [
    "print(var2*var1)"
   ]
  },
  {
   "cell_type": "code",
   "execution_count": null,
   "metadata": {
    "colab": {
     "autoexec": {
      "startup": false,
      "wait_interval": 0
     },
     "base_uri": "https://localhost:8080/",
     "height": 129,
     "output_extras": [
      {
       "item_id": 1
      }
     ]
    },
    "colab_type": "code",
    "executionInfo": {
     "elapsed": 1045,
     "status": "error",
     "timestamp": 1522058404577,
     "user": {
      "displayName": "Muhammad Rafiul Ilmi Syarifudin",
      "photoUrl": "//lh4.googleusercontent.com/-CpdhylvG3Yc/AAAAAAAAAAI/AAAAAAAAAx0/Ug2JeW-smSE/s50-c-k-no/photo.jpg",
      "userId": "116730841804462629249"
     },
     "user_tz": -420
    },
    "id": "zGHbATGrv35B",
    "outputId": "f83b67e9-2bf1-41d4-f32b-7f4aef4edc2b"
   },
   "outputs": [],
   "source": [
    "# continue = \"sesuatu\"\n",
    "print(continue)"
   ]
  },
  {
   "cell_type": "code",
   "execution_count": 2,
   "metadata": {},
   "outputs": [],
   "source": [
    "def helloWorld():\n",
    "    print(\"Hello, World!\")"
   ]
  },
  {
   "cell_type": "code",
   "execution_count": 26,
   "metadata": {},
   "outputs": [
    {
     "name": "stdout",
     "output_type": "stream",
     "text": [
      "Hello, World!\n"
     ]
    }
   ],
   "source": [
    "helloWorld()"
   ]
  },
  {
   "cell_type": "code",
   "execution_count": 25,
   "metadata": {},
   "outputs": [],
   "source": [
    "def addition(x,y):\n",
    "    # helloWorld()\n",
    "    # print(x+y)\n",
    "    return x+y"
   ]
  },
  {
   "cell_type": "code",
   "execution_count": 23,
   "metadata": {},
   "outputs": [],
   "source": [
    "res1 = addition(3,5)"
   ]
  },
  {
   "cell_type": "code",
   "execution_count": 24,
   "metadata": {},
   "outputs": [
    {
     "name": "stdout",
     "output_type": "stream",
     "text": [
      "8\n"
     ]
    }
   ],
   "source": [
    "print(res1)"
   ]
  },
  {
   "cell_type": "code",
   "execution_count": 1,
   "metadata": {
    "cellView": "code",
    "colab": {
     "autoexec": {
      "startup": false,
      "wait_interval": 0
     },
     "base_uri": "https://localhost:8080/",
     "height": 51,
     "output_extras": [
      {
       "item_id": 1
      },
      {
       "item_id": 2
      }
     ]
    },
    "colab_type": "code",
    "executionInfo": {
     "elapsed": 723,
     "status": "ok",
     "timestamp": 1522036482394,
     "user": {
      "displayName": "Muhammad Rafiul Ilmi Syarifudin",
      "photoUrl": "//lh4.googleusercontent.com/-CpdhylvG3Yc/AAAAAAAAAAI/AAAAAAAAAx0/Ug2JeW-smSE/s50-c-k-no/photo.jpg",
      "userId": "116730841804462629249"
     },
     "user_tz": -420
    },
    "id": "Kz7HjstulZD2",
    "outputId": "a9e58a18-4bf3-42a9-a8c2-552bfa732d8c"
   },
   "outputs": [
    {
     "name": "stdout",
     "output_type": "stream",
     "text": [
      "This myname function that can return your name.\n"
     ]
    },
    {
     "data": {
      "text/plain": [
       "'Your name is ilmi'"
      ]
     },
     "execution_count": 1,
     "metadata": {},
     "output_type": "execute_result"
    }
   ],
   "source": [
    "def myname(name):\n",
    "  '''\n",
    "  This function that can return your name.\n",
    "  '''\n",
    "  \n",
    "  print( \"This myname function that can return your name.\")\n",
    "  strout = \"Your name is {}\".format(name)\n",
    "  return strout\n",
    "\n",
    "myname('ilmi')"
   ]
  },
  {
   "cell_type": "code",
   "execution_count": 37,
   "metadata": {
    "colab": {
     "autoexec": {
      "startup": false,
      "wait_interval": 0
     }
    },
    "colab_type": "code",
    "id": "5OWFNHyInBTN"
   },
   "outputs": [],
   "source": [
    "class Employee:\n",
    "   'Common base class for all employees'\n",
    "   empCount = 0\n",
    "\n",
    "   def __init__(self, nama, gaji, tgl):\n",
    "      self.name = nama\n",
    "      self.salary = gaji\n",
    "      self.birthday = tgl\n",
    "      Employee.empCount += 1\n",
    "   \n",
    "#    def displayCount(self):\n",
    "#      print (\"Total Employee %d\" % Employee.empCount)\n",
    "\n",
    "#    def displayEmployee(self):\n",
    "#       print (\"Name : \", self.name,  \", Salary: \", self.salary)"
   ]
  },
  {
   "cell_type": "code",
   "execution_count": 38,
   "metadata": {},
   "outputs": [],
   "source": [
    "empl_1 = Employee(\"Rifaldi\", 1e8, '02-Feb-2000')"
   ]
  },
  {
   "cell_type": "code",
   "execution_count": 42,
   "metadata": {},
   "outputs": [
    {
     "data": {
      "text/plain": [
       "'02-Feb-2000'"
      ]
     },
     "execution_count": 42,
     "metadata": {},
     "output_type": "execute_result"
    }
   ],
   "source": [
    "empl_1.birthday"
   ]
  },
  {
   "cell_type": "code",
   "execution_count": 69,
   "metadata": {},
   "outputs": [],
   "source": [
    "class Car:\n",
    "    count = 0\n",
    "    def __init__(self, tires, prodYear, merk):\n",
    "        self.tires = tires\n",
    "        self.productionYear = prodYear\n",
    "        self.merk = merk\n",
    "        Car.count = Car.count + 1\n",
    "    \n",
    "    def printTotalCars(self):\n",
    "        print(self.count)"
   ]
  },
  {
   "cell_type": "code",
   "execution_count": 70,
   "metadata": {},
   "outputs": [],
   "source": [
    "mobil1 = Car('20\"', 2019, \"Himastron\")"
   ]
  },
  {
   "cell_type": "code",
   "execution_count": 71,
   "metadata": {},
   "outputs": [],
   "source": [
    "mobil2 = Car('40\"', 2015, \"Monster\")"
   ]
  },
  {
   "cell_type": "code",
   "execution_count": 72,
   "metadata": {},
   "outputs": [
    {
     "name": "stdout",
     "output_type": "stream",
     "text": [
      "2\n"
     ]
    }
   ],
   "source": [
    "mobil1.printTotalCars()"
   ]
  },
  {
   "cell_type": "code",
   "execution_count": 73,
   "metadata": {},
   "outputs": [
    {
     "name": "stdout",
     "output_type": "stream",
     "text": [
      "2\n"
     ]
    }
   ],
   "source": [
    "mobil2.printTotalCars()"
   ]
  },
  {
   "cell_type": "code",
   "execution_count": 5,
   "metadata": {
    "colab": {
     "autoexec": {
      "startup": false,
      "wait_interval": 0
     },
     "base_uri": "https://localhost:8080/",
     "height": 34,
     "output_extras": [
      {
       "item_id": 1
      }
     ]
    },
    "colab_type": "code",
    "executionInfo": {
     "elapsed": 765,
     "status": "ok",
     "timestamp": 1522036484071,
     "user": {
      "displayName": "Muhammad Rafiul Ilmi Syarifudin",
      "photoUrl": "//lh4.googleusercontent.com/-CpdhylvG3Yc/AAAAAAAAAAI/AAAAAAAAAx0/Ug2JeW-smSE/s50-c-k-no/photo.jpg",
      "userId": "116730841804462629249"
     },
     "user_tz": -420
    },
    "id": "72bUtd25ngoE",
    "outputId": "2aeffacf-6f95-4a75-9f30-e1a0f0c8019a"
   },
   "outputs": [
    {
     "name": "stdout",
     "output_type": "stream",
     "text": [
      "Total Employee 1\n"
     ]
    }
   ],
   "source": [
    "emp1 = Employee(\"Zara\", 2000)\n",
    "emp1.displayCount()"
   ]
  },
  {
   "cell_type": "code",
   "execution_count": 6,
   "metadata": {
    "colab": {
     "autoexec": {
      "startup": false,
      "wait_interval": 0
     },
     "base_uri": "https://localhost:8080/",
     "height": 34,
     "output_extras": [
      {
       "item_id": 1
      }
     ]
    },
    "colab_type": "code",
    "executionInfo": {
     "elapsed": 707,
     "status": "ok",
     "timestamp": 1522036484902,
     "user": {
      "displayName": "Muhammad Rafiul Ilmi Syarifudin",
      "photoUrl": "//lh4.googleusercontent.com/-CpdhylvG3Yc/AAAAAAAAAAI/AAAAAAAAAx0/Ug2JeW-smSE/s50-c-k-no/photo.jpg",
      "userId": "116730841804462629249"
     },
     "user_tz": -420
    },
    "id": "Go-A-xEJnjJG",
    "outputId": "622608e0-9b1e-413f-9724-ea9f376414d5"
   },
   "outputs": [
    {
     "name": "stdout",
     "output_type": "stream",
     "text": [
      "Name :  Zara , Salary:  2000\n"
     ]
    }
   ],
   "source": [
    "emp1.displayEmployee()"
   ]
  },
  {
   "cell_type": "markdown",
   "metadata": {
    "colab_type": "text",
    "id": "VuPt8MJyZiOY"
   },
   "source": [
    "# Line and Indentation\n",
    "Python **does not** use braces({}) to indicate blocks of code for class and function definitions or flow control. **Blocks of code are denoted by line indentation**, which is rigidly enforced.\n",
    "\n",
    "The number of spaces in the indentation is variable, but all statements within the block must be indented the **same amount**."
   ]
  },
  {
   "cell_type": "code",
   "execution_count": 1,
   "metadata": {
    "colab": {
     "autoexec": {
      "startup": false,
      "wait_interval": 0
     },
     "base_uri": "https://localhost:8080/",
     "height": 129,
     "output_extras": [
      {
       "item_id": 1
      }
     ]
    },
    "colab_type": "code",
    "executionInfo": {
     "elapsed": 727,
     "status": "error",
     "timestamp": 1522036485767,
     "user": {
      "displayName": "Muhammad Rafiul Ilmi Syarifudin",
      "photoUrl": "//lh4.googleusercontent.com/-CpdhylvG3Yc/AAAAAAAAAAI/AAAAAAAAAx0/Ug2JeW-smSE/s50-c-k-no/photo.jpg",
      "userId": "116730841804462629249"
     },
     "user_tz": -420
    },
    "id": "A9F8K4VlZzBW",
    "outputId": "a73522b5-b6fe-452c-f495-cbe5620f2c03"
   },
   "outputs": [
    {
     "ename": "IndentationError",
     "evalue": "expected an indented block (<ipython-input-1-02a1cf1a5a1f>, line 2)",
     "output_type": "error",
     "traceback": [
      "\u001b[1;36m  File \u001b[1;32m\"<ipython-input-1-02a1cf1a5a1f>\"\u001b[1;36m, line \u001b[1;32m2\u001b[0m\n\u001b[1;33m    print (\"True\")\u001b[0m\n\u001b[1;37m        ^\u001b[0m\n\u001b[1;31mIndentationError\u001b[0m\u001b[1;31m:\u001b[0m expected an indented block\n"
     ]
    }
   ],
   "source": [
    "if (1 == 1):\n",
    "print (\"True\")\n",
    "\n",
    "# else:\n",
    "# print (\"False\")"
   ]
  },
  {
   "cell_type": "code",
   "execution_count": 17,
   "metadata": {
    "colab": {
     "autoexec": {
      "startup": false,
      "wait_interval": 0
     },
     "base_uri": "https://localhost:8080/",
     "height": 34,
     "output_extras": [
      {}
     ]
    },
    "colab_type": "code",
    "executionInfo": {
     "elapsed": 789,
     "status": "ok",
     "timestamp": 1522035838372,
     "user": {
      "displayName": "Muhammad Rafiul Ilmi Syarifudin",
      "photoUrl": "//lh4.googleusercontent.com/-CpdhylvG3Yc/AAAAAAAAAAI/AAAAAAAAAx0/Ug2JeW-smSE/s50-c-k-no/photo.jpg",
      "userId": "116730841804462629249"
     },
     "user_tz": -420
    },
    "id": "d7WKiEpTZ1OZ",
    "outputId": "56d99e9d-4c31-4fa5-9a8f-8fc74158c9ca"
   },
   "outputs": [
    {
     "name": "stdout",
     "output_type": "stream",
     "text": [
      "True\n",
      "lalalala\n"
     ]
    }
   ],
   "source": [
    "if (1 != 2):\n",
    "    print (\"True\")\n",
    "    print(\"lalalala\")\n",
    "else:\n",
    "     print (\"False\")"
   ]
  },
  {
   "cell_type": "code",
   "execution_count": 10,
   "metadata": {},
   "outputs": [
    {
     "ename": "IndentationError",
     "evalue": "unindent does not match any outer indentation level (<ipython-input-10-43115f21e4a0>, line 3)",
     "output_type": "error",
     "traceback": [
      "\u001b[1;36m  File \u001b[1;32m\"<ipython-input-10-43115f21e4a0>\"\u001b[1;36m, line \u001b[1;32m3\u001b[0m\n\u001b[1;33m    print(\"sesuatu\")\u001b[0m\n\u001b[1;37m                    ^\u001b[0m\n\u001b[1;31mIndentationError\u001b[0m\u001b[1;31m:\u001b[0m unindent does not match any outer indentation level\n"
     ]
    }
   ],
   "source": [
    "def sebuahfungsi(nama):\n",
    "    print(\"nama = \" + str(nama))\n",
    "  print(\"sesuatu\")\n",
    "    "
   ]
  },
  {
   "cell_type": "markdown",
   "metadata": {
    "colab_type": "text",
    "id": "mP3gHqtVaA3n"
   },
   "source": [
    "# Multi-line Statement\n",
    "Statements in Python typically end with a new line. Python, however, allows the use of the **line continuation character (\\\\)** to denote that the line should continue."
   ]
  },
  {
   "cell_type": "code",
   "execution_count": 18,
   "metadata": {
    "colab": {
     "autoexec": {
      "startup": false,
      "wait_interval": 0
     }
    },
    "colab_type": "code",
    "id": "NXL26UQcaWEP"
   },
   "outputs": [],
   "source": [
    "item_one = 1"
   ]
  },
  {
   "cell_type": "code",
   "execution_count": 19,
   "metadata": {
    "colab": {
     "autoexec": {
      "startup": false,
      "wait_interval": 0
     }
    },
    "colab_type": "code",
    "id": "7Lx7ql40aZ0e"
   },
   "outputs": [],
   "source": [
    "item_two = 2"
   ]
  },
  {
   "cell_type": "code",
   "execution_count": 20,
   "metadata": {
    "colab": {
     "autoexec": {
      "startup": false,
      "wait_interval": 0
     }
    },
    "colab_type": "code",
    "id": "kXPBuLxqabxH"
   },
   "outputs": [],
   "source": [
    "item_three = 3"
   ]
  },
  {
   "cell_type": "code",
   "execution_count": 21,
   "metadata": {},
   "outputs": [],
   "source": [
    "total = (item_one + item_two + item_three) + (item_one + item_two + item_three) + (item_one + item_two + item_three) + (item_one + item_two + item_three)"
   ]
  },
  {
   "cell_type": "code",
   "execution_count": 22,
   "metadata": {},
   "outputs": [
    {
     "name": "stdout",
     "output_type": "stream",
     "text": [
      "24\n"
     ]
    }
   ],
   "source": [
    "print(total)"
   ]
  },
  {
   "cell_type": "code",
   "execution_count": 30,
   "metadata": {},
   "outputs": [],
   "source": [
    "total = item_one + item_two + item_three + \\\n",
    "        item_one + item_two + item_three + \\\n",
    "        item_one + item_two + item_three + \\\n",
    "        item_one + item_two + item_three"
   ]
  },
  {
   "cell_type": "code",
   "execution_count": 24,
   "metadata": {},
   "outputs": [
    {
     "data": {
      "text/plain": [
       "24"
      ]
     },
     "execution_count": 24,
     "metadata": {},
     "output_type": "execute_result"
    }
   ],
   "source": [
    "total"
   ]
  },
  {
   "cell_type": "code",
   "execution_count": 31,
   "metadata": {},
   "outputs": [
    {
     "ename": "SyntaxError",
     "evalue": "invalid syntax (<ipython-input-31-6c5f833a7334>, line 1)",
     "output_type": "error",
     "traceback": [
      "\u001b[1;36m  File \u001b[1;32m\"<ipython-input-31-6c5f833a7334>\"\u001b[1;36m, line \u001b[1;32m1\u001b[0m\n\u001b[1;33m    total = item_one + item_two + item_three +\u001b[0m\n\u001b[1;37m                                               ^\u001b[0m\n\u001b[1;31mSyntaxError\u001b[0m\u001b[1;31m:\u001b[0m invalid syntax\n"
     ]
    }
   ],
   "source": [
    "total = item_one + item_two + item_three + \n",
    "        item_one + item_two + item_three + \n",
    "        item_one + item_two + item_three + \n",
    "        item_one + item_two + item_three"
   ]
  },
  {
   "cell_type": "code",
   "execution_count": 0,
   "metadata": {
    "colab": {
     "autoexec": {
      "startup": false,
      "wait_interval": 0
     }
    },
    "colab_type": "code",
    "id": "kiL4jA4bZ8pL"
   },
   "outputs": [],
   "source": [
    "total = item_one + \\\n",
    "        item_two + \\\n",
    "        item_three"
   ]
  },
  {
   "cell_type": "code",
   "execution_count": 0,
   "metadata": {
    "colab": {
     "autoexec": {
      "startup": false,
      "wait_interval": 0
     },
     "base_uri": "https://localhost:8080/",
     "height": 34,
     "output_extras": [
      {}
     ]
    },
    "colab_type": "code",
    "executionInfo": {
     "elapsed": 841,
     "status": "ok",
     "timestamp": 1522036287566,
     "user": {
      "displayName": "Muhammad Rafiul Ilmi Syarifudin",
      "photoUrl": "//lh4.googleusercontent.com/-CpdhylvG3Yc/AAAAAAAAAAI/AAAAAAAAAx0/Ug2JeW-smSE/s50-c-k-no/photo.jpg",
      "userId": "116730841804462629249"
     },
     "user_tz": -420
    },
    "id": "5FmY9miAaelg",
    "outputId": "c614386f-003c-4ccc-a9b3-2d2a7b397eb7"
   },
   "outputs": [
    {
     "name": "stdout",
     "output_type": "stream",
     "text": [
      "6\n"
     ]
    }
   ],
   "source": [
    "print(total)"
   ]
  },
  {
   "cell_type": "markdown",
   "metadata": {
    "colab_type": "text",
    "id": "f3eqNSSmao0P"
   },
   "source": [
    "### The statements contained within the [], {}, or () brackets do not need to use the line continuation character.\n"
   ]
  },
  {
   "cell_type": "code",
   "execution_count": 26,
   "metadata": {
    "colab": {
     "autoexec": {
      "startup": false,
      "wait_interval": 0
     }
    },
    "colab_type": "code",
    "id": "2f0TLnFwavtv"
   },
   "outputs": [],
   "source": [
    "days = ['Monday', \n",
    "        'Tuesday', \n",
    "        'Wednesday', \n",
    "        'Thursday', \n",
    "        'Friday']"
   ]
  },
  {
   "cell_type": "code",
   "execution_count": 28,
   "metadata": {},
   "outputs": [],
   "source": [
    "days = ('Monday', \n",
    "        'Tuesday', \n",
    "        'Wednesday', \n",
    "        'Thursday', \n",
    "        'Friday')"
   ]
  },
  {
   "cell_type": "code",
   "execution_count": 27,
   "metadata": {
    "colab": {
     "autoexec": {
      "startup": false,
      "wait_interval": 0
     },
     "base_uri": "https://localhost:8080/",
     "height": 34,
     "output_extras": [
      {}
     ]
    },
    "colab_type": "code",
    "executionInfo": {
     "elapsed": 800,
     "status": "ok",
     "timestamp": 1522036082225,
     "user": {
      "displayName": "Muhammad Rafiul Ilmi Syarifudin",
      "photoUrl": "//lh4.googleusercontent.com/-CpdhylvG3Yc/AAAAAAAAAAI/AAAAAAAAAx0/Ug2JeW-smSE/s50-c-k-no/photo.jpg",
      "userId": "116730841804462629249"
     },
     "user_tz": -420
    },
    "id": "NMFw2_RSa21P",
    "outputId": "9df6ce1c-b454-4cca-d377-7a4548889e98"
   },
   "outputs": [
    {
     "name": "stdout",
     "output_type": "stream",
     "text": [
      "['Monday', 'Tuesday', 'Wednesday', 'Thursday', 'Friday']\n"
     ]
    }
   ],
   "source": [
    "print(days)"
   ]
  },
  {
   "cell_type": "code",
   "execution_count": 29,
   "metadata": {},
   "outputs": [],
   "source": [
    "dict_of_the_days = {\n",
    "    0: 'Monday',\n",
    "    1: 'Tuesday',\n",
    "    2: 'Wednesday',\n",
    "    3: 'Thursday',\n",
    "    4: 'Friday',\n",
    "    5: 'Saturday',\n",
    "    6: 'Sunday'\n",
    "}"
   ]
  },
  {
   "cell_type": "code",
   "execution_count": 35,
   "metadata": {},
   "outputs": [
    {
     "data": {
      "text/plain": [
       "'Friday'"
      ]
     },
     "execution_count": 35,
     "metadata": {},
     "output_type": "execute_result"
    }
   ],
   "source": [
    "dict_of_the_days[4]"
   ]
  },
  {
   "cell_type": "markdown",
   "metadata": {
    "colab_type": "text",
    "id": "jSLq1yacalOG"
   },
   "source": [
    "# Quotation in Python\n",
    "Python accepts single ('), double (\") and triple (''' or \"\"\") quotes to denote string literals, as long as the same type of quote starts and ends the string."
   ]
  },
  {
   "cell_type": "code",
   "execution_count": 40,
   "metadata": {
    "colab": {
     "autoexec": {
      "startup": false,
      "wait_interval": 0
     }
    },
    "colab_type": "code",
    "id": "1DrSXknla_i3"
   },
   "outputs": [],
   "source": [
    "word = 'word'\n",
    "sentence = \"This is a sentence.\"\n",
    "paragraph = \"\"\"This is a paragraph. It is\n",
    "made up of multiple lines and sentences.\"\"\""
   ]
  },
  {
   "cell_type": "code",
   "execution_count": 45,
   "metadata": {},
   "outputs": [
    {
     "ename": "SyntaxError",
     "evalue": "invalid syntax (<ipython-input-45-794b3bb86273>, line 1)",
     "output_type": "error",
     "traceback": [
      "\u001b[1;36m  File \u001b[1;32m\"<ipython-input-45-794b3bb86273>\"\u001b[1;36m, line \u001b[1;32m1\u001b[0m\n\u001b[1;33m    sentence = ''This is a sentence.''\u001b[0m\n\u001b[1;37m                    ^\u001b[0m\n\u001b[1;31mSyntaxError\u001b[0m\u001b[1;31m:\u001b[0m invalid syntax\n"
     ]
    }
   ],
   "source": [
    "sentence = ''This is a sentence.''"
   ]
  },
  {
   "cell_type": "code",
   "execution_count": 41,
   "metadata": {},
   "outputs": [
    {
     "name": "stdout",
     "output_type": "stream",
     "text": [
      "This is a paragraph. It is\n",
      "made up of multiple lines and sentences.\n"
     ]
    }
   ],
   "source": [
    "print(paragraph)"
   ]
  },
  {
   "cell_type": "code",
   "execution_count": 38,
   "metadata": {},
   "outputs": [],
   "source": [
    "paragraph = \"This is a paragraph. It is \\\n",
    "made up of multiple lines and sentences.\""
   ]
  },
  {
   "cell_type": "code",
   "execution_count": 39,
   "metadata": {},
   "outputs": [
    {
     "data": {
      "text/plain": [
       "'This is a paragraph. It is made up of multiple lines and sentences.'"
      ]
     },
     "execution_count": 39,
     "metadata": {},
     "output_type": "execute_result"
    }
   ],
   "source": [
    "paragraph"
   ]
  },
  {
   "cell_type": "code",
   "execution_count": 0,
   "metadata": {
    "colab": {
     "autoexec": {
      "startup": false,
      "wait_interval": 0
     },
     "base_uri": "https://localhost:8080/",
     "height": 34,
     "output_extras": [
      {}
     ]
    },
    "colab_type": "code",
    "executionInfo": {
     "elapsed": 712,
     "status": "ok",
     "timestamp": 1522036122670,
     "user": {
      "displayName": "Muhammad Rafiul Ilmi Syarifudin",
      "photoUrl": "//lh4.googleusercontent.com/-CpdhylvG3Yc/AAAAAAAAAAI/AAAAAAAAAx0/Ug2JeW-smSE/s50-c-k-no/photo.jpg",
      "userId": "116730841804462629249"
     },
     "user_tz": -420
    },
    "id": "JiTFSvv-bA2w",
    "outputId": "61f64df3-26e2-4f6c-9b59-a038fde38b07"
   },
   "outputs": [
    {
     "name": "stdout",
     "output_type": "stream",
     "text": [
      "word\n"
     ]
    }
   ],
   "source": [
    "print(word)"
   ]
  },
  {
   "cell_type": "code",
   "execution_count": 0,
   "metadata": {
    "colab": {
     "autoexec": {
      "startup": false,
      "wait_interval": 0
     },
     "base_uri": "https://localhost:8080/",
     "height": 34,
     "output_extras": [
      {}
     ]
    },
    "colab_type": "code",
    "executionInfo": {
     "elapsed": 781,
     "status": "ok",
     "timestamp": 1522036127396,
     "user": {
      "displayName": "Muhammad Rafiul Ilmi Syarifudin",
      "photoUrl": "//lh4.googleusercontent.com/-CpdhylvG3Yc/AAAAAAAAAAI/AAAAAAAAAx0/Ug2JeW-smSE/s50-c-k-no/photo.jpg",
      "userId": "116730841804462629249"
     },
     "user_tz": -420
    },
    "id": "s659RcyzbCEZ",
    "outputId": "0719e76c-bb2d-42fa-a283-ca5c97ea59f6"
   },
   "outputs": [
    {
     "name": "stdout",
     "output_type": "stream",
     "text": [
      "This is a sentence.\n"
     ]
    }
   ],
   "source": [
    "print(sentence)"
   ]
  },
  {
   "cell_type": "code",
   "execution_count": 0,
   "metadata": {
    "colab": {
     "autoexec": {
      "startup": false,
      "wait_interval": 0
     },
     "base_uri": "https://localhost:8080/",
     "height": 51,
     "output_extras": [
      {}
     ]
    },
    "colab_type": "code",
    "executionInfo": {
     "elapsed": 749,
     "status": "ok",
     "timestamp": 1522036136264,
     "user": {
      "displayName": "Muhammad Rafiul Ilmi Syarifudin",
      "photoUrl": "//lh4.googleusercontent.com/-CpdhylvG3Yc/AAAAAAAAAAI/AAAAAAAAAx0/Ug2JeW-smSE/s50-c-k-no/photo.jpg",
      "userId": "116730841804462629249"
     },
     "user_tz": -420
    },
    "id": "ln5_dCPLbDNB",
    "outputId": "f315ffa8-bd6f-449a-aee3-b5e25827d10d"
   },
   "outputs": [
    {
     "name": "stdout",
     "output_type": "stream",
     "text": [
      "This is a paragraph. It is\n",
      "made up of multiple lines and sentences.\n"
     ]
    }
   ],
   "source": [
    "print(paragraph)"
   ]
  },
  {
   "cell_type": "markdown",
   "metadata": {
    "colab_type": "text",
    "id": "EB4tOytEcIeI"
   },
   "source": [
    "# Comments in Python\n",
    "A hash sign (#) that is not inside a string literal is the beginning of a comment. All characters after the #, up to the end of the physical line, are part of the comment and the Python interpreter ignores them."
   ]
  },
  {
   "cell_type": "code",
   "execution_count": 1,
   "metadata": {
    "colab": {
     "autoexec": {
      "startup": false,
      "wait_interval": 0
     },
     "base_uri": "https://localhost:8080/",
     "height": 34,
     "output_extras": [
      {
       "item_id": 1
      }
     ]
    },
    "colab_type": "code",
    "executionInfo": {
     "elapsed": 978,
     "status": "ok",
     "timestamp": 1522036479175,
     "user": {
      "displayName": "Muhammad Rafiul Ilmi Syarifudin",
      "photoUrl": "//lh4.googleusercontent.com/-CpdhylvG3Yc/AAAAAAAAAAI/AAAAAAAAAx0/Ug2JeW-smSE/s50-c-k-no/photo.jpg",
      "userId": "116730841804462629249"
     },
     "user_tz": -420
    },
    "id": "cyO7mgJ9cXOU",
    "outputId": "fc18b87a-b72d-4ad1-91ea-fbea560232cd"
   },
   "outputs": [
    {
     "name": "stdout",
     "output_type": "stream",
     "text": [
      "Hello, Python!\n"
     ]
    }
   ],
   "source": [
    "# First comment\n",
    "print (\"Hello, Python!\") # second comment"
   ]
  },
  {
   "cell_type": "code",
   "execution_count": 42,
   "metadata": {
    "colab": {
     "autoexec": {
      "startup": false,
      "wait_interval": 0
     },
     "base_uri": "https://localhost:8080/",
     "height": 85,
     "output_extras": [
      {
       "item_id": 1
      }
     ]
    },
    "colab_type": "code",
    "executionInfo": {
     "elapsed": 818,
     "status": "ok",
     "timestamp": 1522059286428,
     "user": {
      "displayName": "Muhammad Rafiul Ilmi Syarifudin",
      "photoUrl": "//lh4.googleusercontent.com/-CpdhylvG3Yc/AAAAAAAAAAI/AAAAAAAAAx0/Ug2JeW-smSE/s50-c-k-no/photo.jpg",
      "userId": "116730841804462629249"
     },
     "user_tz": -420
    },
    "id": "WJRB2tqAcXqb",
    "outputId": "21788cff-84ea-496e-8331-053af0a41157"
   },
   "outputs": [
    {
     "data": {
      "text/plain": [
       "'\\nprint(\"sesuatu\")\\nprint(\"sesuatu\")\\nprint(\"sesuatu\")\\nprint(\"sesuatu\")\\n'"
      ]
     },
     "execution_count": 42,
     "metadata": {},
     "output_type": "execute_result"
    }
   ],
   "source": [
    "'''\n",
    "print(\"sesuatu\")\n",
    "print(\"sesuatu\")\n",
    "print(\"sesuatu\")\n",
    "print(\"sesuatu\")\n",
    "'''"
   ]
  },
  {
   "cell_type": "code",
   "execution_count": null,
   "metadata": {},
   "outputs": [],
   "source": [
    "# print(\"sesuatu\")\n",
    "# print(\"sesuatu\")\n",
    "# print(\"sesuatu\")\n",
    "# print(\"sesuatu\")"
   ]
  },
  {
   "cell_type": "code",
   "execution_count": 43,
   "metadata": {},
   "outputs": [],
   "source": [
    "def fungsi():\n",
    "    '''\n",
    "    print(\"sesuatu\")\n",
    "    print(\"sesuatu\")\n",
    "    print(\"sesuatu\")\n",
    "    print(\"sesuatu\")\n",
    "    '''\n",
    "    print(\"fungsi ini tidak berguna\")"
   ]
  },
  {
   "cell_type": "code",
   "execution_count": 44,
   "metadata": {},
   "outputs": [
    {
     "name": "stdout",
     "output_type": "stream",
     "text": [
      "fungsi ini tidak berguna\n"
     ]
    }
   ],
   "source": [
    "fungsi()"
   ]
  }
 ],
 "metadata": {
  "colab": {
   "default_view": {},
   "name": "Basic Syntax - Day 1.ipynb",
   "provenance": [
    {
     "file_id": "19fMCum6wTb_FEWDLvDQOfl1Xe6lEDzl2",
     "timestamp": 1522023990955
    }
   ],
   "version": "0.3.2",
   "views": {}
  },
  "kernelspec": {
   "display_name": "Python 3",
   "language": "python",
   "name": "python3"
  },
  "language_info": {
   "codemirror_mode": {
    "name": "ipython",
    "version": 3
   },
   "file_extension": ".py",
   "mimetype": "text/x-python",
   "name": "python",
   "nbconvert_exporter": "python",
   "pygments_lexer": "ipython3",
   "version": "3.6.8"
  }
 },
 "nbformat": 4,
 "nbformat_minor": 1
}
